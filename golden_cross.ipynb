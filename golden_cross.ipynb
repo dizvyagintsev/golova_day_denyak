{
 "cells": [
  {
   "cell_type": "code",
   "execution_count": 1,
   "id": "e8b2dda3",
   "metadata": {},
   "outputs": [],
   "source": [
    "API_KEY = ''\n",
    "API_SECRET = ''\n",
    "\n",
    "from binance.client import Client\n",
    "client = Client(API_KEY, API_SECRET)"
   ]
  },
  {
   "cell_type": "code",
   "execution_count": 61,
   "id": "7e9ce75c",
   "metadata": {},
   "outputs": [],
   "source": [
    "MINUTES_NUMBER = 5000\n",
    "COMMISION_RATE = 0.0001"
   ]
  },
  {
   "cell_type": "code",
   "execution_count": 2,
   "id": "15b896f8",
   "metadata": {},
   "outputs": [],
   "source": [
    "import pandas as pd"
   ]
  },
  {
   "cell_type": "code",
   "execution_count": 53,
   "id": "b30a669b",
   "metadata": {},
   "outputs": [
    {
     "data": {
      "text/html": [
       "<div>\n",
       "<style scoped>\n",
       "    .dataframe tbody tr th:only-of-type {\n",
       "        vertical-align: middle;\n",
       "    }\n",
       "\n",
       "    .dataframe tbody tr th {\n",
       "        vertical-align: top;\n",
       "    }\n",
       "\n",
       "    .dataframe thead th {\n",
       "        text-align: right;\n",
       "    }\n",
       "</style>\n",
       "<table border=\"1\" class=\"dataframe\">\n",
       "  <thead>\n",
       "    <tr style=\"text-align: right;\">\n",
       "      <th></th>\n",
       "      <th>time</th>\n",
       "      <th>price</th>\n",
       "    </tr>\n",
       "  </thead>\n",
       "  <tbody>\n",
       "    <tr>\n",
       "      <th>0</th>\n",
       "      <td>2021-09-10 10:28:59.999</td>\n",
       "      <td>46136.08000000</td>\n",
       "    </tr>\n",
       "    <tr>\n",
       "      <th>1</th>\n",
       "      <td>2021-09-10 10:29:59.999</td>\n",
       "      <td>46157.27000000</td>\n",
       "    </tr>\n",
       "    <tr>\n",
       "      <th>2</th>\n",
       "      <td>2021-09-10 10:30:59.999</td>\n",
       "      <td>46175.35000000</td>\n",
       "    </tr>\n",
       "    <tr>\n",
       "      <th>3</th>\n",
       "      <td>2021-09-10 10:31:59.999</td>\n",
       "      <td>46198.58000000</td>\n",
       "    </tr>\n",
       "    <tr>\n",
       "      <th>4</th>\n",
       "      <td>2021-09-10 10:32:59.999</td>\n",
       "      <td>46205.42000000</td>\n",
       "    </tr>\n",
       "    <tr>\n",
       "      <th>...</th>\n",
       "      <td>...</td>\n",
       "      <td>...</td>\n",
       "    </tr>\n",
       "    <tr>\n",
       "      <th>4995</th>\n",
       "      <td>2021-09-13 21:43:59.999</td>\n",
       "      <td>44979.58000000</td>\n",
       "    </tr>\n",
       "    <tr>\n",
       "      <th>4996</th>\n",
       "      <td>2021-09-13 21:44:59.999</td>\n",
       "      <td>45013.82000000</td>\n",
       "    </tr>\n",
       "    <tr>\n",
       "      <th>4997</th>\n",
       "      <td>2021-09-13 21:45:59.999</td>\n",
       "      <td>45030.50000000</td>\n",
       "    </tr>\n",
       "    <tr>\n",
       "      <th>4998</th>\n",
       "      <td>2021-09-13 21:46:59.999</td>\n",
       "      <td>45052.30000000</td>\n",
       "    </tr>\n",
       "    <tr>\n",
       "      <th>4999</th>\n",
       "      <td>2021-09-13 21:47:59.999</td>\n",
       "      <td>45015.17000000</td>\n",
       "    </tr>\n",
       "  </tbody>\n",
       "</table>\n",
       "<p>5000 rows × 2 columns</p>\n",
       "</div>"
      ],
      "text/plain": [
       "                        time           price\n",
       "0    2021-09-10 10:28:59.999  46136.08000000\n",
       "1    2021-09-10 10:29:59.999  46157.27000000\n",
       "2    2021-09-10 10:30:59.999  46175.35000000\n",
       "3    2021-09-10 10:31:59.999  46198.58000000\n",
       "4    2021-09-10 10:32:59.999  46205.42000000\n",
       "...                      ...             ...\n",
       "4995 2021-09-13 21:43:59.999  44979.58000000\n",
       "4996 2021-09-13 21:44:59.999  45013.82000000\n",
       "4997 2021-09-13 21:45:59.999  45030.50000000\n",
       "4998 2021-09-13 21:46:59.999  45052.30000000\n",
       "4999 2021-09-13 21:47:59.999  45015.17000000\n",
       "\n",
       "[5000 rows x 2 columns]"
      ]
     },
     "execution_count": 53,
     "metadata": {},
     "output_type": "execute_result"
    }
   ],
   "source": [
    "historical_klines"
   ]
  },
  {
   "cell_type": "code",
   "execution_count": 52,
   "id": "48b8cad0",
   "metadata": {},
   "outputs": [],
   "source": [
    "historical_klines = pd.DataFrame()\n",
    "for kline in client.get_historical_klines_generator(\"BTCUSDT\", Client.KLINE_INTERVAL_1MINUTE, f\"{MINUTES_NUMBER} minutes ago UTC\"):\n",
    "    close_price = kline[4]\n",
    "    close_time = kline[6]\n",
    "    historical_klines = historical_klines.append({'time': pd.to_datetime(close_time, unit='ms'), 'price': close_price}, ignore_index=True)"
   ]
  },
  {
   "cell_type": "code",
   "execution_count": 67,
   "id": "069c621a",
   "metadata": {},
   "outputs": [],
   "source": [
    "def backtest(long_window, short_window):\n",
    "    df = historical_klines.copy()\n",
    "    df['mean_long'] = df['price'].rolling(long_window).mean()\n",
    "    df['mean_short'] = df['price'].rolling(short_window).mean()\n",
    "    df['strategy'] = get_strategies(df)\n",
    "#     print(df)\n",
    "    df = df.iloc[(long_window-1):,]\n",
    "    df['strategy'] = pd.to_numeric(df['strategy'])\n",
    "    df['price'] = pd.to_numeric(df['price'])\n",
    "    df.loc[:, 'buy_price'] = df.loc[:, 'price'] * df.loc[:, 'strategy']\n",
    "    df = df[df['strategy'] != 0]\n",
    "    df['next_price'] = df['buy_price'].shift(-1)\n",
    "#     print(df)\n",
    "    df = df[~df['next_price'].isna()]\n",
    "    df['profit'] = np.where(\n",
    "        df['strategy'] == -1,\n",
    "        (df['price'] - df['next_price']) + df['buy_price'] * COMMISION_RATE - df['next_price'] * COMMISION_RATE,\n",
    "        -(df['next_price'] + df['price']) - df['buy_price'] * COMMISION_RATE + df['next_price'] * COMMISION_RATE)\n",
    "\n",
    "    return df['profit'].sum()"
   ]
  },
  {
   "cell_type": "code",
   "execution_count": 44,
   "id": "120f9b40",
   "metadata": {},
   "outputs": [],
   "source": [
    "def get_strategies(df):\n",
    "    sign = None\n",
    "    strategies = []\n",
    "\n",
    "    for row in df.iterrows():\n",
    "        mean_short, mean_long = row[1]['mean_short'], row[1]['mean_long']\n",
    "\n",
    "        if pd.isna(mean_long):\n",
    "            strategies.append(pd.NA)\n",
    "            continue\n",
    "\n",
    "        local_sign = (mean_short - mean_long) >= 0\n",
    "        strategy = 0\n",
    "\n",
    "        if sign == None:\n",
    "            sign = local_sign\n",
    "\n",
    "        if local_sign != sign: # знак поменялся\n",
    "            if local_sign: # поменялся с - на +\n",
    "                strategy = 1\n",
    "            else: # поменялся с + на -\n",
    "                strategy = -1\n",
    "\n",
    "        sign = local_sign\n",
    "        strategies.append(strategy)\n",
    "        \n",
    "    return strategies"
   ]
  },
  {
   "cell_type": "code",
   "execution_count": 49,
   "id": "b428c293",
   "metadata": {},
   "outputs": [
    {
     "name": "stdout",
     "output_type": "stream",
     "text": [
      "26.8 ms ± 905 µs per loop (mean ± std. dev. of 7 runs, 10 loops each)\n"
     ]
    }
   ],
   "source": [
    "%%timeit\n",
    "backtest(25, 7)"
   ]
  },
  {
   "cell_type": "code",
   "execution_count": 40,
   "id": "11d3a37c",
   "metadata": {},
   "outputs": [
    {
     "data": {
      "text/html": [
       "<div>\n",
       "<style scoped>\n",
       "    .dataframe tbody tr th:only-of-type {\n",
       "        vertical-align: middle;\n",
       "    }\n",
       "\n",
       "    .dataframe tbody tr th {\n",
       "        vertical-align: top;\n",
       "    }\n",
       "\n",
       "    .dataframe thead th {\n",
       "        text-align: right;\n",
       "    }\n",
       "</style>\n",
       "<table border=\"1\" class=\"dataframe\">\n",
       "  <thead>\n",
       "    <tr style=\"text-align: right;\">\n",
       "      <th></th>\n",
       "      <th>time</th>\n",
       "      <th>price</th>\n",
       "    </tr>\n",
       "  </thead>\n",
       "  <tbody>\n",
       "    <tr>\n",
       "      <th>0</th>\n",
       "      <td>2021-09-13 17:19:59.999</td>\n",
       "      <td>44359.50000000</td>\n",
       "    </tr>\n",
       "    <tr>\n",
       "      <th>1</th>\n",
       "      <td>2021-09-13 17:20:59.999</td>\n",
       "      <td>44393.00000000</td>\n",
       "    </tr>\n",
       "    <tr>\n",
       "      <th>2</th>\n",
       "      <td>2021-09-13 17:21:59.999</td>\n",
       "      <td>44414.86000000</td>\n",
       "    </tr>\n",
       "    <tr>\n",
       "      <th>3</th>\n",
       "      <td>2021-09-13 17:22:59.999</td>\n",
       "      <td>44452.31000000</td>\n",
       "    </tr>\n",
       "    <tr>\n",
       "      <th>4</th>\n",
       "      <td>2021-09-13 17:23:59.999</td>\n",
       "      <td>44463.06000000</td>\n",
       "    </tr>\n",
       "    <tr>\n",
       "      <th>...</th>\n",
       "      <td>...</td>\n",
       "      <td>...</td>\n",
       "    </tr>\n",
       "    <tr>\n",
       "      <th>255</th>\n",
       "      <td>2021-09-13 21:34:59.999</td>\n",
       "      <td>45049.94000000</td>\n",
       "    </tr>\n",
       "    <tr>\n",
       "      <th>256</th>\n",
       "      <td>2021-09-13 21:35:59.999</td>\n",
       "      <td>45063.01000000</td>\n",
       "    </tr>\n",
       "    <tr>\n",
       "      <th>257</th>\n",
       "      <td>2021-09-13 21:36:59.999</td>\n",
       "      <td>45024.45000000</td>\n",
       "    </tr>\n",
       "    <tr>\n",
       "      <th>258</th>\n",
       "      <td>2021-09-13 21:37:59.999</td>\n",
       "      <td>44975.74000000</td>\n",
       "    </tr>\n",
       "    <tr>\n",
       "      <th>259</th>\n",
       "      <td>2021-09-13 21:38:59.999</td>\n",
       "      <td>44979.86000000</td>\n",
       "    </tr>\n",
       "  </tbody>\n",
       "</table>\n",
       "<p>260 rows × 2 columns</p>\n",
       "</div>"
      ],
      "text/plain": [
       "                       time           price\n",
       "0   2021-09-13 17:19:59.999  44359.50000000\n",
       "1   2021-09-13 17:20:59.999  44393.00000000\n",
       "2   2021-09-13 17:21:59.999  44414.86000000\n",
       "3   2021-09-13 17:22:59.999  44452.31000000\n",
       "4   2021-09-13 17:23:59.999  44463.06000000\n",
       "..                      ...             ...\n",
       "255 2021-09-13 21:34:59.999  45049.94000000\n",
       "256 2021-09-13 21:35:59.999  45063.01000000\n",
       "257 2021-09-13 21:36:59.999  45024.45000000\n",
       "258 2021-09-13 21:37:59.999  44975.74000000\n",
       "259 2021-09-13 21:38:59.999  44979.86000000\n",
       "\n",
       "[260 rows x 2 columns]"
      ]
     },
     "execution_count": 40,
     "metadata": {},
     "output_type": "execute_result"
    }
   ],
   "source": [
    "historical_klines"
   ]
  },
  {
   "cell_type": "code",
   "execution_count": 23,
   "id": "64b3365a",
   "metadata": {},
   "outputs": [
    {
     "ename": "NameError",
     "evalue": "name 'df' is not defined",
     "output_type": "error",
     "traceback": [
      "\u001b[0;31m---------------------------------------------------------------------------\u001b[0m",
      "\u001b[0;31mNameError\u001b[0m                                 Traceback (most recent call last)",
      "\u001b[0;32m/tmp/ipykernel_70/1396537375.py\u001b[0m in \u001b[0;36m<module>\u001b[0;34m\u001b[0m\n\u001b[0;32m----> 1\u001b[0;31m \u001b[0mdf\u001b[0m\u001b[0;34m\u001b[0m\u001b[0;34m\u001b[0m\u001b[0m\n\u001b[0m",
      "\u001b[0;31mNameError\u001b[0m: name 'df' is not defined"
     ]
    }
   ],
   "source": [
    "df"
   ]
  },
  {
   "cell_type": "code",
   "execution_count": 33,
   "id": "0034f105",
   "metadata": {},
   "outputs": [
    {
     "data": {
      "text/html": [
       "<div>\n",
       "<style scoped>\n",
       "    .dataframe tbody tr th:only-of-type {\n",
       "        vertical-align: middle;\n",
       "    }\n",
       "\n",
       "    .dataframe tbody tr th {\n",
       "        vertical-align: top;\n",
       "    }\n",
       "\n",
       "    .dataframe thead th {\n",
       "        text-align: right;\n",
       "    }\n",
       "</style>\n",
       "<table border=\"1\" class=\"dataframe\">\n",
       "  <thead>\n",
       "    <tr style=\"text-align: right;\">\n",
       "      <th></th>\n",
       "      <th>time</th>\n",
       "      <th>price</th>\n",
       "    </tr>\n",
       "  </thead>\n",
       "  <tbody>\n",
       "    <tr>\n",
       "      <th>0</th>\n",
       "      <td>2021-09-13 16:39:59.999</td>\n",
       "      <td>44253.38000000</td>\n",
       "    </tr>\n",
       "    <tr>\n",
       "      <th>1</th>\n",
       "      <td>2021-09-13 16:40:59.999</td>\n",
       "      <td>44232.43000000</td>\n",
       "    </tr>\n",
       "    <tr>\n",
       "      <th>2</th>\n",
       "      <td>2021-09-13 16:41:59.999</td>\n",
       "      <td>44302.59000000</td>\n",
       "    </tr>\n",
       "    <tr>\n",
       "      <th>3</th>\n",
       "      <td>2021-09-13 16:42:59.999</td>\n",
       "      <td>44257.46000000</td>\n",
       "    </tr>\n",
       "    <tr>\n",
       "      <th>4</th>\n",
       "      <td>2021-09-13 16:43:59.999</td>\n",
       "      <td>44260.00000000</td>\n",
       "    </tr>\n",
       "    <tr>\n",
       "      <th>...</th>\n",
       "      <td>...</td>\n",
       "      <td>...</td>\n",
       "    </tr>\n",
       "    <tr>\n",
       "      <th>515</th>\n",
       "      <td>2021-09-13 21:29:59.999</td>\n",
       "      <td>45039.23000000</td>\n",
       "    </tr>\n",
       "    <tr>\n",
       "      <th>516</th>\n",
       "      <td>2021-09-13 21:30:59.999</td>\n",
       "      <td>45051.58000000</td>\n",
       "    </tr>\n",
       "    <tr>\n",
       "      <th>517</th>\n",
       "      <td>2021-09-13 21:31:59.999</td>\n",
       "      <td>45050.02000000</td>\n",
       "    </tr>\n",
       "    <tr>\n",
       "      <th>518</th>\n",
       "      <td>2021-09-13 21:32:59.999</td>\n",
       "      <td>45055.71000000</td>\n",
       "    </tr>\n",
       "    <tr>\n",
       "      <th>519</th>\n",
       "      <td>2021-09-13 21:33:59.999</td>\n",
       "      <td>45041.53000000</td>\n",
       "    </tr>\n",
       "  </tbody>\n",
       "</table>\n",
       "<p>520 rows × 2 columns</p>\n",
       "</div>"
      ],
      "text/plain": [
       "                       time           price\n",
       "0   2021-09-13 16:39:59.999  44253.38000000\n",
       "1   2021-09-13 16:40:59.999  44232.43000000\n",
       "2   2021-09-13 16:41:59.999  44302.59000000\n",
       "3   2021-09-13 16:42:59.999  44257.46000000\n",
       "4   2021-09-13 16:43:59.999  44260.00000000\n",
       "..                      ...             ...\n",
       "515 2021-09-13 21:29:59.999  45039.23000000\n",
       "516 2021-09-13 21:30:59.999  45051.58000000\n",
       "517 2021-09-13 21:31:59.999  45050.02000000\n",
       "518 2021-09-13 21:32:59.999  45055.71000000\n",
       "519 2021-09-13 21:33:59.999  45041.53000000\n",
       "\n",
       "[520 rows x 2 columns]"
      ]
     },
     "execution_count": 33,
     "metadata": {},
     "output_type": "execute_result"
    }
   ],
   "source": [
    "historical_klines"
   ]
  },
  {
   "cell_type": "code",
   "execution_count": 71,
   "id": "cca52e26",
   "metadata": {},
   "outputs": [
    {
     "name": "stderr",
     "output_type": "stream",
     "text": [
      "/tmp/ipykernel_70/820550862.py:3: TqdmDeprecationWarning: This function will be removed in tqdm==5.0.0\n",
      "Please use `tqdm.notebook.tqdm` instead of `tqdm.tqdm_notebook`\n",
      "  for short_window in tqdm(range(5, 195, 5)):\n"
     ]
    },
    {
     "data": {
      "application/vnd.jupyter.widget-view+json": {
       "model_id": "4dc2a9a2feb14ad2b75e1de4a7b96ec3",
       "version_major": 2,
       "version_minor": 0
      },
      "text/plain": [
       "  0%|          | 0/38 [00:00<?, ?it/s]"
      ]
     },
     "metadata": {},
     "output_type": "display_data"
    },
    {
     "name": "stderr",
     "output_type": "stream",
     "text": [
      "/tmp/ipykernel_70/820550862.py:4: TqdmDeprecationWarning: This function will be removed in tqdm==5.0.0\n",
      "Please use `tqdm.notebook.tqdm` instead of `tqdm.tqdm_notebook`\n",
      "  for long_window in tqdm(range(short_window + 5, 200, 5)):\n"
     ]
    },
    {
     "data": {
      "application/vnd.jupyter.widget-view+json": {
       "model_id": "c650adadeec847da82d3758d61fcc059",
       "version_major": 2,
       "version_minor": 0
      },
      "text/plain": [
       "  0%|          | 0/38 [00:00<?, ?it/s]"
      ]
     },
     "metadata": {},
     "output_type": "display_data"
    },
    {
     "data": {
      "application/vnd.jupyter.widget-view+json": {
       "model_id": "dff4efc7e5f3463caa25e7215055b24f",
       "version_major": 2,
       "version_minor": 0
      },
      "text/plain": [
       "  0%|          | 0/37 [00:00<?, ?it/s]"
      ]
     },
     "metadata": {},
     "output_type": "display_data"
    },
    {
     "data": {
      "application/vnd.jupyter.widget-view+json": {
       "model_id": "08b617f50590446cb9dec6124d840c06",
       "version_major": 2,
       "version_minor": 0
      },
      "text/plain": [
       "  0%|          | 0/36 [00:00<?, ?it/s]"
      ]
     },
     "metadata": {},
     "output_type": "display_data"
    },
    {
     "data": {
      "application/vnd.jupyter.widget-view+json": {
       "model_id": "7a75e64c91194e10a47be5c071be576c",
       "version_major": 2,
       "version_minor": 0
      },
      "text/plain": [
       "  0%|          | 0/35 [00:00<?, ?it/s]"
      ]
     },
     "metadata": {},
     "output_type": "display_data"
    },
    {
     "data": {
      "application/vnd.jupyter.widget-view+json": {
       "model_id": "5b12d3bdebd54d408a145c0c606b25b8",
       "version_major": 2,
       "version_minor": 0
      },
      "text/plain": [
       "  0%|          | 0/34 [00:00<?, ?it/s]"
      ]
     },
     "metadata": {},
     "output_type": "display_data"
    },
    {
     "data": {
      "application/vnd.jupyter.widget-view+json": {
       "model_id": "cafcae6976b345beb8f5fa28c85bff00",
       "version_major": 2,
       "version_minor": 0
      },
      "text/plain": [
       "  0%|          | 0/33 [00:00<?, ?it/s]"
      ]
     },
     "metadata": {},
     "output_type": "display_data"
    },
    {
     "data": {
      "application/vnd.jupyter.widget-view+json": {
       "model_id": "0079e19d7c214b699ad4f696cf817172",
       "version_major": 2,
       "version_minor": 0
      },
      "text/plain": [
       "  0%|          | 0/32 [00:00<?, ?it/s]"
      ]
     },
     "metadata": {},
     "output_type": "display_data"
    },
    {
     "data": {
      "application/vnd.jupyter.widget-view+json": {
       "model_id": "3b72c6d24ff8406a8a796f229fb953b4",
       "version_major": 2,
       "version_minor": 0
      },
      "text/plain": [
       "  0%|          | 0/31 [00:00<?, ?it/s]"
      ]
     },
     "metadata": {},
     "output_type": "display_data"
    },
    {
     "data": {
      "application/vnd.jupyter.widget-view+json": {
       "model_id": "ba863e4b254c43e5985da869b74b25d2",
       "version_major": 2,
       "version_minor": 0
      },
      "text/plain": [
       "  0%|          | 0/30 [00:00<?, ?it/s]"
      ]
     },
     "metadata": {},
     "output_type": "display_data"
    },
    {
     "data": {
      "application/vnd.jupyter.widget-view+json": {
       "model_id": "61b403f27bae492680e4eccdd636149a",
       "version_major": 2,
       "version_minor": 0
      },
      "text/plain": [
       "  0%|          | 0/29 [00:00<?, ?it/s]"
      ]
     },
     "metadata": {},
     "output_type": "display_data"
    },
    {
     "data": {
      "application/vnd.jupyter.widget-view+json": {
       "model_id": "14586bd06bb54a9dace97e109984c9a6",
       "version_major": 2,
       "version_minor": 0
      },
      "text/plain": [
       "  0%|          | 0/28 [00:00<?, ?it/s]"
      ]
     },
     "metadata": {},
     "output_type": "display_data"
    },
    {
     "data": {
      "application/vnd.jupyter.widget-view+json": {
       "model_id": "201d55d2621e4373bddde62e13c363a1",
       "version_major": 2,
       "version_minor": 0
      },
      "text/plain": [
       "  0%|          | 0/27 [00:00<?, ?it/s]"
      ]
     },
     "metadata": {},
     "output_type": "display_data"
    },
    {
     "data": {
      "application/vnd.jupyter.widget-view+json": {
       "model_id": "9720d6c9a3e343c7bf6ad61180bff874",
       "version_major": 2,
       "version_minor": 0
      },
      "text/plain": [
       "  0%|          | 0/26 [00:00<?, ?it/s]"
      ]
     },
     "metadata": {},
     "output_type": "display_data"
    },
    {
     "data": {
      "application/vnd.jupyter.widget-view+json": {
       "model_id": "872c25aba2914f35a982585e24081a7f",
       "version_major": 2,
       "version_minor": 0
      },
      "text/plain": [
       "  0%|          | 0/25 [00:00<?, ?it/s]"
      ]
     },
     "metadata": {},
     "output_type": "display_data"
    },
    {
     "data": {
      "application/vnd.jupyter.widget-view+json": {
       "model_id": "613e3cad251d44169ad0c4b5503df9d3",
       "version_major": 2,
       "version_minor": 0
      },
      "text/plain": [
       "  0%|          | 0/24 [00:00<?, ?it/s]"
      ]
     },
     "metadata": {},
     "output_type": "display_data"
    },
    {
     "data": {
      "application/vnd.jupyter.widget-view+json": {
       "model_id": "75e240951f354609b6e2687246cd8b87",
       "version_major": 2,
       "version_minor": 0
      },
      "text/plain": [
       "  0%|          | 0/23 [00:00<?, ?it/s]"
      ]
     },
     "metadata": {},
     "output_type": "display_data"
    },
    {
     "data": {
      "application/vnd.jupyter.widget-view+json": {
       "model_id": "82edb07303084a70b1d20abddf733d81",
       "version_major": 2,
       "version_minor": 0
      },
      "text/plain": [
       "  0%|          | 0/22 [00:00<?, ?it/s]"
      ]
     },
     "metadata": {},
     "output_type": "display_data"
    },
    {
     "data": {
      "application/vnd.jupyter.widget-view+json": {
       "model_id": "3050a5457fae42d1ae162625724ecc09",
       "version_major": 2,
       "version_minor": 0
      },
      "text/plain": [
       "  0%|          | 0/21 [00:00<?, ?it/s]"
      ]
     },
     "metadata": {},
     "output_type": "display_data"
    },
    {
     "data": {
      "application/vnd.jupyter.widget-view+json": {
       "model_id": "29293c8a270d453c9b76ba32aae3c907",
       "version_major": 2,
       "version_minor": 0
      },
      "text/plain": [
       "  0%|          | 0/20 [00:00<?, ?it/s]"
      ]
     },
     "metadata": {},
     "output_type": "display_data"
    },
    {
     "data": {
      "application/vnd.jupyter.widget-view+json": {
       "model_id": "09f9f02872824fbda45ff9926d89eb59",
       "version_major": 2,
       "version_minor": 0
      },
      "text/plain": [
       "  0%|          | 0/19 [00:00<?, ?it/s]"
      ]
     },
     "metadata": {},
     "output_type": "display_data"
    },
    {
     "data": {
      "application/vnd.jupyter.widget-view+json": {
       "model_id": "669717d9291546eda5346e1336494cf4",
       "version_major": 2,
       "version_minor": 0
      },
      "text/plain": [
       "  0%|          | 0/18 [00:00<?, ?it/s]"
      ]
     },
     "metadata": {},
     "output_type": "display_data"
    },
    {
     "data": {
      "application/vnd.jupyter.widget-view+json": {
       "model_id": "6bde619f1890498da73ce73a39babb72",
       "version_major": 2,
       "version_minor": 0
      },
      "text/plain": [
       "  0%|          | 0/17 [00:00<?, ?it/s]"
      ]
     },
     "metadata": {},
     "output_type": "display_data"
    },
    {
     "data": {
      "application/vnd.jupyter.widget-view+json": {
       "model_id": "efa8dff845ae42ccb1b5d94603b8cfae",
       "version_major": 2,
       "version_minor": 0
      },
      "text/plain": [
       "  0%|          | 0/16 [00:00<?, ?it/s]"
      ]
     },
     "metadata": {},
     "output_type": "display_data"
    },
    {
     "data": {
      "application/vnd.jupyter.widget-view+json": {
       "model_id": "8cb82b65f0a04c629b4d0242846f6838",
       "version_major": 2,
       "version_minor": 0
      },
      "text/plain": [
       "  0%|          | 0/15 [00:00<?, ?it/s]"
      ]
     },
     "metadata": {},
     "output_type": "display_data"
    },
    {
     "data": {
      "application/vnd.jupyter.widget-view+json": {
       "model_id": "37dc78ec8c1a45228d3cba51cda3523c",
       "version_major": 2,
       "version_minor": 0
      },
      "text/plain": [
       "  0%|          | 0/14 [00:00<?, ?it/s]"
      ]
     },
     "metadata": {},
     "output_type": "display_data"
    },
    {
     "data": {
      "application/vnd.jupyter.widget-view+json": {
       "model_id": "b34fb785e7044bf3b70ab249bfe07369",
       "version_major": 2,
       "version_minor": 0
      },
      "text/plain": [
       "  0%|          | 0/13 [00:00<?, ?it/s]"
      ]
     },
     "metadata": {},
     "output_type": "display_data"
    },
    {
     "data": {
      "application/vnd.jupyter.widget-view+json": {
       "model_id": "8283619e87c1471d922f03bbcdb62a1d",
       "version_major": 2,
       "version_minor": 0
      },
      "text/plain": [
       "  0%|          | 0/12 [00:00<?, ?it/s]"
      ]
     },
     "metadata": {},
     "output_type": "display_data"
    },
    {
     "data": {
      "application/vnd.jupyter.widget-view+json": {
       "model_id": "aa4fd9edbd4b4ec6b2b8e9322764b135",
       "version_major": 2,
       "version_minor": 0
      },
      "text/plain": [
       "  0%|          | 0/11 [00:00<?, ?it/s]"
      ]
     },
     "metadata": {},
     "output_type": "display_data"
    },
    {
     "data": {
      "application/vnd.jupyter.widget-view+json": {
       "model_id": "f4dde597538640b0b86aededafdb703d",
       "version_major": 2,
       "version_minor": 0
      },
      "text/plain": [
       "  0%|          | 0/10 [00:00<?, ?it/s]"
      ]
     },
     "metadata": {},
     "output_type": "display_data"
    },
    {
     "data": {
      "application/vnd.jupyter.widget-view+json": {
       "model_id": "f77c0da8c4bd4f4699338df11cec0a91",
       "version_major": 2,
       "version_minor": 0
      },
      "text/plain": [
       "  0%|          | 0/9 [00:00<?, ?it/s]"
      ]
     },
     "metadata": {},
     "output_type": "display_data"
    },
    {
     "data": {
      "application/vnd.jupyter.widget-view+json": {
       "model_id": "2d48a809c5b54ca595449a7e8b28eff6",
       "version_major": 2,
       "version_minor": 0
      },
      "text/plain": [
       "  0%|          | 0/8 [00:00<?, ?it/s]"
      ]
     },
     "metadata": {},
     "output_type": "display_data"
    },
    {
     "data": {
      "application/vnd.jupyter.widget-view+json": {
       "model_id": "a2ba3e844ebb44afbf04f707a0539cb0",
       "version_major": 2,
       "version_minor": 0
      },
      "text/plain": [
       "  0%|          | 0/7 [00:00<?, ?it/s]"
      ]
     },
     "metadata": {},
     "output_type": "display_data"
    },
    {
     "data": {
      "application/vnd.jupyter.widget-view+json": {
       "model_id": "29d1e8d9e7934c4a869647bd3d91b91e",
       "version_major": 2,
       "version_minor": 0
      },
      "text/plain": [
       "  0%|          | 0/6 [00:00<?, ?it/s]"
      ]
     },
     "metadata": {},
     "output_type": "display_data"
    },
    {
     "data": {
      "application/vnd.jupyter.widget-view+json": {
       "model_id": "850be7c8939c4f50a1a2f9148df241ae",
       "version_major": 2,
       "version_minor": 0
      },
      "text/plain": [
       "  0%|          | 0/5 [00:00<?, ?it/s]"
      ]
     },
     "metadata": {},
     "output_type": "display_data"
    },
    {
     "data": {
      "application/vnd.jupyter.widget-view+json": {
       "model_id": "8c6d245a63604c4397df0dd3efead5a9",
       "version_major": 2,
       "version_minor": 0
      },
      "text/plain": [
       "  0%|          | 0/4 [00:00<?, ?it/s]"
      ]
     },
     "metadata": {},
     "output_type": "display_data"
    },
    {
     "data": {
      "application/vnd.jupyter.widget-view+json": {
       "model_id": "4f6312eb1cff45a48f8d7b4655191688",
       "version_major": 2,
       "version_minor": 0
      },
      "text/plain": [
       "  0%|          | 0/3 [00:00<?, ?it/s]"
      ]
     },
     "metadata": {},
     "output_type": "display_data"
    },
    {
     "data": {
      "application/vnd.jupyter.widget-view+json": {
       "model_id": "af7b5846d9104c508171d5d62c3f1b6e",
       "version_major": 2,
       "version_minor": 0
      },
      "text/plain": [
       "  0%|          | 0/2 [00:00<?, ?it/s]"
      ]
     },
     "metadata": {},
     "output_type": "display_data"
    },
    {
     "data": {
      "application/vnd.jupyter.widget-view+json": {
       "model_id": "f6970d8ef05e41ca997a49a4287ce9a7",
       "version_major": 2,
       "version_minor": 0
      },
      "text/plain": [
       "  0%|          | 0/1 [00:00<?, ?it/s]"
      ]
     },
     "metadata": {},
     "output_type": "display_data"
    }
   ],
   "source": [
    "results = {}\n",
    "\n",
    "for short_window in tqdm(range(5, 195, 5)):\n",
    "    for long_window in tqdm(range(short_window + 5, 200, 5)):\n",
    "        results[backtest(long_window, short_window)] = (long_window, short_window)"
   ]
  },
  {
   "cell_type": "code",
   "execution_count": 58,
   "id": "72516c1c",
   "metadata": {},
   "outputs": [],
   "source": [
    "from tqdm import tqdm_notebook as tqdm"
   ]
  },
  {
   "cell_type": "code",
   "execution_count": 72,
   "id": "f9f5aaa2",
   "metadata": {},
   "outputs": [
    {
     "data": {
      "text/plain": [
       "3077.655258999967"
      ]
     },
     "execution_count": 72,
     "metadata": {},
     "output_type": "execute_result"
    }
   ],
   "source": [
    "max(results)"
   ]
  },
  {
   "cell_type": "code",
   "execution_count": 73,
   "id": "93d9d1a3",
   "metadata": {},
   "outputs": [
    {
     "data": {
      "text/plain": [
       "(20, 15)"
      ]
     },
     "execution_count": 73,
     "metadata": {},
     "output_type": "execute_result"
    }
   ],
   "source": [
    "results[3077.655258999967]"
   ]
  },
  {
   "cell_type": "code",
   "execution_count": 70,
   "id": "ec386c46",
   "metadata": {},
   "outputs": [
    {
     "data": {
      "text/plain": [
       "3077.655258999967"
      ]
     },
     "execution_count": 70,
     "metadata": {},
     "output_type": "execute_result"
    }
   ],
   "source": [
    "backtest(20, 15)"
   ]
  },
  {
   "cell_type": "code",
   "execution_count": 74,
   "id": "ff02f4c5",
   "metadata": {},
   "outputs": [
    {
     "data": {
      "text/plain": [
       "{-2967.435061999959: (10, 5),\n",
       " -3387.322906999897: (15, 5),\n",
       " -5048.332756999935: (20, 5),\n",
       " -2201.3564160000005: (25, 5),\n",
       " -1517.1366320000436: (30, 5),\n",
       " -3571.321914999951: (35, 5),\n",
       " -2957.0950119999907: (40, 5),\n",
       " -1200.5263740000205: (45, 5),\n",
       " -1185.819522000047: (50, 5),\n",
       " -1028.4484850000736: (55, 5),\n",
       " -180.31959100004605: (60, 5),\n",
       " 76.40293000004539: (65, 5),\n",
       " -854.9798129999383: (70, 5),\n",
       " -774.8275979999823: (75, 5),\n",
       " 247.93348700007016: (80, 5),\n",
       " 278.1050530000342: (85, 5),\n",
       " 36.78859700004941: (90, 5),\n",
       " 238.72117900004895: (95, 5),\n",
       " 16.635576999976763: (100, 5),\n",
       " -0.5483669999733252: (105, 5),\n",
       " -552.9211619999146: (110, 5),\n",
       " 28.520666000085612: (115, 5),\n",
       " -1119.4954899999784: (120, 5),\n",
       " -1913.2591379999549: (125, 5),\n",
       " -2443.681323999892: (130, 5),\n",
       " -2386.5453550000034: (135, 5),\n",
       " -1982.9223350000032: (140, 5),\n",
       " -1748.5111649999815: (145, 5),\n",
       " -2405.722995999971: (150, 5),\n",
       " -2331.7797579999465: (155, 5),\n",
       " -2314.252529999988: (160, 5),\n",
       " -2506.995311000021: (165, 5),\n",
       " -2445.9006589999876: (170, 5),\n",
       " -2456.5078579999636: (175, 5),\n",
       " -2785.0877839999603: (180, 5),\n",
       " -2380.430211999948: (185, 5),\n",
       " -2804.9351319999982: (190, 5),\n",
       " -2900.105569999918: (195, 5),\n",
       " -1434.1452009999975: (15, 10),\n",
       " -1277.4928610000602: (20, 10),\n",
       " -1211.5951959999923: (25, 10),\n",
       " -1461.8485300000416: (30, 10),\n",
       " -752.7055179998465: (35, 10),\n",
       " -1284.8590899999595: (40, 10),\n",
       " -895.7982080000345: (45, 10),\n",
       " -1375.9083220000052: (50, 10),\n",
       " -679.5179019999177: (55, 10),\n",
       " 96.47547400002702: (60, 10),\n",
       " 953.1238860000702: (65, 10),\n",
       " 900.8704310000323: (70, 10),\n",
       " 835.4999620000717: (75, 10),\n",
       " 1941.3334680000078: (80, 10),\n",
       " 1607.9360420000055: (85, 10),\n",
       " 1753.7560630000614: (90, 10),\n",
       " 1766.6453710000458: (95, 10),\n",
       " 1908.4000810000798: (100, 10),\n",
       " 1396.1708840000315: (105, 10),\n",
       " 914.2305450000335: (110, 10),\n",
       " -83.01083299998554: (115, 10),\n",
       " -1222.1995789999535: (120, 10),\n",
       " -1013.7675380000321: (125, 10),\n",
       " -1175.8208280000267: (130, 10),\n",
       " -982.9372909999843: (135, 10),\n",
       " -1692.6606929999841: (140, 10),\n",
       " -938.4533249999868: (145, 10),\n",
       " -1729.2492049999644: (150, 10),\n",
       " -1573.0913219999798: (155, 10),\n",
       " -2383.33515099997: (160, 10),\n",
       " -2171.749315999967: (165, 10),\n",
       " -2906.617737999978: (170, 10),\n",
       " -2281.5509930000103: (175, 10),\n",
       " -2353.075384000009: (180, 10),\n",
       " -2448.5239549999733: (185, 10),\n",
       " -2673.7554569999593: (190, 10),\n",
       " -2281.877261999994: (195, 10),\n",
       " 3077.655258999967: (20, 15),\n",
       " 600.5195159999296: (25, 15),\n",
       " -396.855034000012: (30, 15),\n",
       " -833.5996679999769: (35, 15),\n",
       " -1204.874813999967: (40, 15),\n",
       " -2135.2921789999946: (45, 15),\n",
       " -250.18343699998763: (50, 15),\n",
       " -774.7324109999183: (55, 15),\n",
       " 406.09750900003826: (60, 15),\n",
       " 490.28639899998404: (65, 15),\n",
       " 563.7690269999489: (70, 15),\n",
       " 379.1523429999695: (75, 15),\n",
       " -143.02522399998543: (80, 15),\n",
       " 68.05572700005632: (85, 15),\n",
       " -843.5205099999816: (90, 15),\n",
       " -623.8887899999984: (95, 15),\n",
       " -781.8098769999722: (100, 15),\n",
       " 281.52988400000595: (105, 15),\n",
       " 390.93041800002123: (110, 15),\n",
       " -257.9062629999941: (115, 15),\n",
       " -2357.829126000026: (120, 15),\n",
       " -2197.9272700000006: (125, 15),\n",
       " -1502.2426310000176: (130, 15),\n",
       " -2000.6128249999997: (135, 15),\n",
       " -1254.7482709999974: (140, 15),\n",
       " -734.3843030000068: (145, 15),\n",
       " -2007.5726589999852: (150, 15),\n",
       " -2224.0690100000347: (155, 15),\n",
       " -2081.3333840000428: (160, 15),\n",
       " -2962.9929390000384: (165, 15),\n",
       " -3170.9454320000195: (170, 15),\n",
       " -3097.0036250000335: (175, 15),\n",
       " -2452.252158000033: (180, 15),\n",
       " -3016.3531130000442: (185, 15),\n",
       " -2639.3240250000463: (190, 15),\n",
       " -3168.412506000043: (195, 15),\n",
       " -2733.609425999968: (25, 20),\n",
       " -2972.5706679999184: (30, 20),\n",
       " -3478.786405000034: (35, 20),\n",
       " -676.7858889999584: (40, 20),\n",
       " -1228.1760829999726: (45, 20),\n",
       " -365.41459099990783: (50, 20),\n",
       " -901.0664139999398: (55, 20),\n",
       " -197.337236000006: (60, 20),\n",
       " -635.7100550000109: (65, 20),\n",
       " -1260.3084139999448: (70, 20),\n",
       " -1782.0967869999276: (75, 20),\n",
       " -1042.3891509999378: (80, 20),\n",
       " -2283.4026609999155: (85, 20),\n",
       " -1677.1995550000195: (90, 20),\n",
       " -238.61083199997842: (95, 20),\n",
       " 229.08912300006688: (100, 20),\n",
       " 127.85842200001478: (105, 20),\n",
       " -600.5978540000012: (110, 20),\n",
       " -559.988572999952: (115, 20),\n",
       " -859.4850309999736: (120, 20),\n",
       " -1258.4186189999673: (125, 20),\n",
       " -1468.4712739999711: (130, 20),\n",
       " -1577.7887969999988: (135, 20),\n",
       " -1415.3448079999935: (140, 20),\n",
       " -807.5364119999631: (145, 20),\n",
       " -1061.2933530000007: (150, 20),\n",
       " -1877.3221949999934: (155, 20),\n",
       " -2280.308779999927: (160, 20),\n",
       " -3445.429596999961: (165, 20),\n",
       " -2613.112379999977: (170, 20),\n",
       " -2412.7120949999967: (175, 20),\n",
       " -2472.859034000049: (180, 20),\n",
       " -1946.7262629999927: (185, 20),\n",
       " -2069.452209999982: (190, 20),\n",
       " -1676.223190999927: (195, 20),\n",
       " -6508.11153399994: (30, 25),\n",
       " -2367.990449999912: (35, 25),\n",
       " -612.2968850000705: (40, 25),\n",
       " 387.25685400005835: (45, 25),\n",
       " 525.0597369999787: (50, 25),\n",
       " 1192.2666740000352: (55, 25),\n",
       " 647.6476160000449: (60, 25),\n",
       " 425.6233630000628: (65, 25),\n",
       " -502.5147889999881: (70, 25),\n",
       " -1376.6548889999513: (75, 25),\n",
       " -1021.0724559999534: (80, 25),\n",
       " -790.6585709999813: (85, 25),\n",
       " -1533.8540859999973: (90, 25),\n",
       " -1969.720336999946: (95, 25),\n",
       " -1751.4829669999917: (100, 25),\n",
       " -2035.369813999986: (105, 25),\n",
       " -1748.8758410000066: (110, 25),\n",
       " -3311.199388999999: (115, 25),\n",
       " -3397.5664360000233: (120, 25),\n",
       " -4877.562427000011: (125, 25),\n",
       " -4656.994061000002: (130, 25),\n",
       " -4565.7980789999965: (135, 25),\n",
       " -4151.910132999988: (140, 25),\n",
       " -4566.697451999963: (145, 25),\n",
       " -3783.704784000006: (150, 25),\n",
       " -4072.033727999942: (155, 25),\n",
       " -4226.763530999996: (160, 25),\n",
       " -3132.838718999992: (165, 25),\n",
       " -2739.12086800002: (170, 25),\n",
       " -3378.097728999984: (175, 25),\n",
       " -3615.601392000001: (180, 25),\n",
       " -3248.2259989999784: (185, 25),\n",
       " -3645.863998000006: (190, 25),\n",
       " -3963.440354999996: (195, 25),\n",
       " -3347.2446860000805: (35, 30),\n",
       " -1575.6024960000277: (40, 30),\n",
       " -471.6637229999389: (45, 30),\n",
       " 1470.6995619999484: (50, 30),\n",
       " 769.4322969999926: (55, 30),\n",
       " -710.0000969999844: (60, 30),\n",
       " -1068.11967699996: (65, 30),\n",
       " -111.8160939999837: (70, 30),\n",
       " -419.2591099999988: (75, 30),\n",
       " -1447.7925070000445: (80, 30),\n",
       " -2254.3745120000067: (85, 30),\n",
       " -2442.444726000009: (90, 30),\n",
       " -3232.5713670000227: (95, 30),\n",
       " -3331.148094000015: (100, 30),\n",
       " -3103.50075500006: (105, 30),\n",
       " -2853.8151280000466: (110, 30),\n",
       " -3837.98711799998: (115, 30),\n",
       " -4177.0552789999965: (120, 30),\n",
       " -4816.222996999977: (125, 30),\n",
       " -3844.047652000005: (130, 30),\n",
       " -3232.4224800000275: (135, 30),\n",
       " -3059.1303559999947: (140, 30),\n",
       " -2817.7294710000024: (145, 30),\n",
       " -3137.2301379999826: (150, 30),\n",
       " -3452.3477750000143: (155, 30),\n",
       " -4096.9894389999845: (160, 30),\n",
       " -3469.1596159999676: (165, 30),\n",
       " -4364.494372000001: (170, 30),\n",
       " -4213.379200999994: (175, 30),\n",
       " -4282.9542230000225: (180, 30),\n",
       " -4294.529111000039: (185, 30),\n",
       " -4471.033223000005: (190, 30),\n",
       " -4223.943886000004: (195, 30),\n",
       " -2258.3481749999582: (40, 35),\n",
       " -93.05349400000955: (45, 35),\n",
       " -251.5166229999673: (50, 35),\n",
       " 25.262589000015623: (55, 35),\n",
       " -747.1886170000189: (60, 35),\n",
       " -200.48917700015056: (65, 35),\n",
       " 118.95451899996033: (70, 35),\n",
       " -1947.186789000045: (75, 35),\n",
       " -2826.9743850000136: (80, 35),\n",
       " -3988.528009999975: (85, 35),\n",
       " -3474.658549000023: (90, 35),\n",
       " -4623.4556740000035: (95, 35),\n",
       " -3588.167341000007: (100, 35),\n",
       " -2496.170587000018: (105, 35),\n",
       " -3964.345922000023: (110, 35),\n",
       " -4033.1311800000008: (115, 35),\n",
       " -3640.740484000012: (120, 35),\n",
       " -2699.665403000002: (125, 35),\n",
       " -3269.0708070000073: (130, 35),\n",
       " -3157.6200449999947: (135, 35),\n",
       " -3054.4678060000087: (140, 35),\n",
       " -3662.546123000029: (145, 35),\n",
       " -3835.224982000004: (150, 35),\n",
       " -3417.3350439999876: (155, 35),\n",
       " -3154.8773690000367: (160, 35),\n",
       " -3349.4552879999756: (165, 35),\n",
       " -4271.762549000034: (170, 35),\n",
       " -4511.141546000049: (175, 35),\n",
       " -3874.4725210000206: (180, 35),\n",
       " -4143.3084430000035: (185, 35),\n",
       " -4953.041669000002: (190, 35),\n",
       " -4356.362084000017: (195, 35),\n",
       " -205.75197499996352: (45, 40),\n",
       " -1922.7472810000568: (50, 40),\n",
       " 587.3850869999969: (55, 40),\n",
       " -131.2956399999921: (60, 40),\n",
       " -589.6711209998952: (65, 40),\n",
       " -2128.047355999963: (70, 40),\n",
       " -2581.0404489999814: (75, 40),\n",
       " -1938.7555210000091: (80, 40),\n",
       " -2662.1265560000415: (85, 40),\n",
       " -4001.5198929999788: (90, 40),\n",
       " -3734.0803519999713: (95, 40),\n",
       " -3359.454567999991: (100, 40),\n",
       " -3947.6399330000195: (105, 40),\n",
       " -3674.6984900000407: (110, 40),\n",
       " -3641.4656590000313: (115, 40),\n",
       " -2560.3188610000097: (120, 40),\n",
       " -2369.9372229999617: (125, 40),\n",
       " -2875.993926999982: (130, 40),\n",
       " -3043.549218000001: (135, 40),\n",
       " -3177.197195000061: (140, 40),\n",
       " -2794.6782320000093: (145, 40),\n",
       " -2505.0224710000157: (150, 40),\n",
       " -2598.7760780000076: (155, 40),\n",
       " -3649.060970000049: (160, 40),\n",
       " -3725.4334910000225: (165, 40),\n",
       " -4201.625613000014: (170, 40),\n",
       " -3475.948288000006: (175, 40),\n",
       " -4396.477657000019: (180, 40),\n",
       " -4974.891524999991: (185, 40),\n",
       " -4859.866742999988: (190, 40),\n",
       " -3933.6772849999866: (195, 40),\n",
       " -1964.074347000018: (50, 45),\n",
       " -554.2088409999837: (55, 45),\n",
       " -2313.8879519999523: (60, 45),\n",
       " -1854.1264369999788: (65, 45),\n",
       " -2573.5652569999793: (70, 45),\n",
       " -3448.0401459999894: (75, 45),\n",
       " -3231.45053099998: (80, 45),\n",
       " -2931.152234000012: (85, 45),\n",
       " -4502.7303769999835: (90, 45),\n",
       " -4622.886703000005: (95, 45),\n",
       " -4418.521236999955: (100, 45),\n",
       " -4795.205283000008: (105, 45),\n",
       " -3610.5713750000223: (110, 45),\n",
       " -3800.9428860000326: (115, 45),\n",
       " -2931.798243000011: (120, 45),\n",
       " -2990.901128999988: (125, 45),\n",
       " -2246.7722220000037: (130, 45),\n",
       " -3067.7112649999663: (135, 45),\n",
       " -3446.1540389999795: (140, 45),\n",
       " -2836.880433000022: (145, 45),\n",
       " -3464.6461429999545: (150, 45),\n",
       " -3531.4210369999832: (155, 45),\n",
       " -3657.596296999977: (160, 45),\n",
       " -4099.110730999993: (165, 45),\n",
       " -4228.346840000007: (170, 45),\n",
       " -5763.612478000009: (175, 45),\n",
       " -5968.45387900002: (180, 45),\n",
       " -5924.506449000032: (185, 45),\n",
       " -5100.999040000013: (190, 45),\n",
       " -5646.498347000029: (195, 45),\n",
       " -1073.6971780000506: (55, 50),\n",
       " -1717.1322239999824: (60, 50),\n",
       " -2291.3729499998567: (65, 50),\n",
       " -1938.5001920000066: (70, 50),\n",
       " -3715.605361999993: (75, 50),\n",
       " -4421.2632610000755: (80, 50),\n",
       " -4077.5234019999843: (85, 50),\n",
       " -5161.175831000018: (90, 50),\n",
       " -4991.897008999984: (95, 50),\n",
       " -4081.426762999993: (100, 50),\n",
       " -3943.9617590000203: (105, 50),\n",
       " -4594.022595999975: (110, 50),\n",
       " -4138.8697910000055: (115, 50),\n",
       " -3296.0705990000024: (120, 50),\n",
       " -3207.447214999968: (125, 50),\n",
       " -2951.1256059999996: (130, 50),\n",
       " -3198.173258000051: (135, 50),\n",
       " -4064.3915740000048: (140, 50),\n",
       " -3563.7131200000454: (145, 50),\n",
       " -3945.1286710000168: (150, 50),\n",
       " -3802.472109000034: (155, 50),\n",
       " -5157.136255000051: (160, 50),\n",
       " -5082.712137000051: (165, 50),\n",
       " -4762.239751999974: (170, 50),\n",
       " -5869.656221999986: (175, 50),\n",
       " -5307.667553000028: (180, 50),\n",
       " -4822.475809000003: (185, 50),\n",
       " -4630.688749999995: (190, 50),\n",
       " -5342.146194999992: (195, 50),\n",
       " -3192.1429210000106: (60, 55),\n",
       " -3259.542609000031: (65, 55),\n",
       " -5844.936816000032: (70, 55),\n",
       " -6257.546430000056: (75, 55),\n",
       " -5472.333165: (80, 55),\n",
       " -5961.977612999905: (85, 55),\n",
       " -5557.721221000014: (90, 55),\n",
       " -4686.597505000027: (95, 55),\n",
       " -4439.208885999976: (100, 55),\n",
       " -4295.630835000039: (105, 55),\n",
       " -3788.7224079999983: (110, 55),\n",
       " -3988.8255850000023: (115, 55),\n",
       " -3881.167314999998: (120, 55),\n",
       " -3401.683779000009: (125, 55),\n",
       " -4169.843640999999: (130, 55),\n",
       " -3580.540873999996: (135, 55),\n",
       " -4910.182693000055: (140, 55),\n",
       " -4683.053126999977: (145, 55),\n",
       " -4038.099407999994: (150, 55),\n",
       " -4469.655944000006: (155, 55),\n",
       " -4883.974527000027: (160, 55),\n",
       " -4823.580759999945: (165, 55),\n",
       " -4968.487965999976: (170, 55),\n",
       " -4870.814288999974: (175, 55),\n",
       " -4138.935234999958: (180, 55),\n",
       " -3800.483057999945: (185, 55),\n",
       " -4720.45332799997: (190, 55),\n",
       " -4679.985344999997: (195, 55),\n",
       " -7457.5670920001085: (65, 60),\n",
       " -7558.035661000024: (70, 60),\n",
       " -5652.236875000001: (75, 60),\n",
       " -7077.383591000001: (80, 60),\n",
       " -5996.524144999992: (85, 60),\n",
       " -4554.046473000003: (90, 60),\n",
       " -3750.7549710000035: (95, 60),\n",
       " -4217.301813999973: (100, 60),\n",
       " -4218.122889000017: (105, 60),\n",
       " -4963.436739000018: (110, 60),\n",
       " -5285.288762000008: (115, 60),\n",
       " -4622.540753000062: (120, 60),\n",
       " -3972.0227480000167: (125, 60),\n",
       " -4155.827389000035: (130, 60),\n",
       " -3819.343861000024: (135, 60),\n",
       " -4138.038446000012: (140, 60),\n",
       " -3542.837180999967: (145, 60),\n",
       " -3548.285648000026: (150, 60),\n",
       " -4208.069933999959: (155, 60),\n",
       " -4020.8566829999772: (160, 60),\n",
       " -4574.5422399999925: (165, 60),\n",
       " -4008.9702060000295: (170, 60),\n",
       " -4401.919982999965: (175, 60),\n",
       " -4247.55748799998: (180, 60),\n",
       " -4101.469864000006: (185, 60),\n",
       " -4707.611183999993: (190, 60),\n",
       " -5609.604717000009: (195, 60),\n",
       " -5165.497592999947: (70, 65),\n",
       " -6238.19873900008: (75, 65),\n",
       " -5064.197751999982: (80, 65),\n",
       " -5027.01877699997: (85, 65),\n",
       " -4810.297657999972: (90, 65),\n",
       " -4712.9287199999935: (95, 65),\n",
       " -4382.929350999964: (100, 65),\n",
       " -4268.643640999963: (105, 65),\n",
       " -4776.42880499998: (110, 65),\n",
       " -4798.869656000035: (115, 65),\n",
       " -3916.659368000069: (120, 65),\n",
       " -2969.742356000009: (125, 65),\n",
       " -2893.737987999991: (130, 65),\n",
       " -2008.871941999971: (135, 65),\n",
       " -2256.439927999975: (140, 65),\n",
       " -2224.3613819999932: (145, 65),\n",
       " -3382.393340999996: (150, 65),\n",
       " -3353.8633029999696: (155, 65),\n",
       " -3520.9839220000063: (160, 65),\n",
       " -2398.3028529999947: (165, 65),\n",
       " -2919.1286470000227: (170, 65),\n",
       " -3643.3394659999676: (175, 65),\n",
       " -3339.564159000033: (180, 65),\n",
       " -3664.9858389999954: (185, 65),\n",
       " -4517.119578999995: (190, 65),\n",
       " -4809.52939700004: (195, 65),\n",
       " -7218.555066999992: (75, 70),\n",
       " -5130.119027999928: (80, 70),\n",
       " -5478.024674999958: (85, 70),\n",
       " -3572.8472709999696: (90, 70),\n",
       " -2893.052790000038: (95, 70),\n",
       " -2687.291323000044: (100, 70),\n",
       " -3262.9386779999663: (105, 70),\n",
       " -3640.4016100000335: (110, 70),\n",
       " -4239.986161000032: (115, 70),\n",
       " -3233.209889999998: (120, 70),\n",
       " -2529.4807209999267: (125, 70),\n",
       " -2398.2158600000134: (130, 70),\n",
       " -2423.205025000035: (135, 70),\n",
       " -3414.695576999997: (140, 70),\n",
       " -2861.4709759999764: (145, 70),\n",
       " -4138.686060999969: (150, 70),\n",
       " -3028.024836999976: (155, 70),\n",
       " -3097.4374630000034: (160, 70),\n",
       " -3676.7615959999825: (165, 70),\n",
       " -3294.425175999959: (170, 70),\n",
       " -3292.150219999982: (175, 70),\n",
       " -2974.751484999965: (180, 70),\n",
       " -3678.834588999992: (185, 70),\n",
       " -4216.343904000038: (190, 70),\n",
       " -4268.192249000008: (195, 70),\n",
       " -4291.0823120000605: (80, 75),\n",
       " -4460.3316240000095: (85, 75),\n",
       " -3027.8333700000567: (90, 75),\n",
       " -1221.6972060000467: (95, 75),\n",
       " -1502.7742299999727: (100, 75),\n",
       " -3010.7584519999523: (105, 75),\n",
       " -3545.5331100000076: (110, 75),\n",
       " -3875.3271870000217: (115, 75),\n",
       " -3473.2966730000226: (120, 75),\n",
       " -2945.979609999982: (125, 75),\n",
       " -3190.5868419999947: (130, 75),\n",
       " -3032.5164220000006: (135, 75),\n",
       " -2744.7160530000006: (140, 75),\n",
       " -1677.2649019999965: (145, 75),\n",
       " -2954.2764900000043: (150, 75),\n",
       " -3033.738666999987: (155, 75),\n",
       " -2919.5445080000454: (160, 75),\n",
       " -3967.5790489999945: (165, 75),\n",
       " -4012.973545000018: (170, 75),\n",
       " -4607.693118999966: (175, 75),\n",
       " -4321.891407000001: (180, 75),\n",
       " -4357.282594999986: (185, 75),\n",
       " -4990.283939000028: (190, 75),\n",
       " -4490.2919549999915: (195, 75),\n",
       " -3529.2598660000176: (85, 80),\n",
       " -2468.164933000035: (90, 80),\n",
       " -1815.8539480000147: (95, 80),\n",
       " -3686.7231619999716: (100, 80),\n",
       " -3948.606473000004: (105, 80),\n",
       " -3426.0011540000182: (110, 80),\n",
       " -3862.6327540000307: (115, 80),\n",
       " -3410.3334019999947: (120, 80),\n",
       " -3011.6329380000107: (125, 80),\n",
       " -3034.2340360000053: (130, 80),\n",
       " -1836.8821660000212: (135, 80),\n",
       " -582.6796809999985: (140, 80),\n",
       " -1970.9028439999806: (145, 80),\n",
       " -2980.7773240000156: (150, 80),\n",
       " -3153.037924000006: (155, 80),\n",
       " -3991.7196590000367: (160, 80),\n",
       " -3475.1932319999983: (165, 80),\n",
       " -4117.317228999979: (170, 80),\n",
       " -5130.5826590000115: (175, 80),\n",
       " -5548.511338000023: (180, 80),\n",
       " -5377.90076899999: (185, 80),\n",
       " -5041.553512999983: (190, 80),\n",
       " -5939.523602000049: (195, 80),\n",
       " -4334.005275000004: (90, 85),\n",
       " -4182.681254000035: (95, 85),\n",
       " -4357.194737999967: (100, 85),\n",
       " -5297.625101000023: (105, 85),\n",
       " -4843.659329000009: (110, 85),\n",
       " -4760.520310999973: (115, 85),\n",
       " -4073.147562999998: (120, 85),\n",
       " -2310.5195799999938: (125, 85),\n",
       " -854.7205540000081: (130, 85),\n",
       " -447.3966820000071: (135, 85),\n",
       " -1026.1954449999969: (140, 85),\n",
       " -1597.6223459999717: (145, 85),\n",
       " -2471.3212349999885: (150, 85),\n",
       " -3699.1740929999764: (155, 85),\n",
       " -4735.347168999976: (160, 85),\n",
       " -5034.018375999947: (165, 85),\n",
       " -5260.373681000021: (170, 85),\n",
       " -4700.136437000002: (175, 85),\n",
       " -4668.14437499996: (180, 85),\n",
       " -5378.401786999972: (185, 85),\n",
       " -5886.377981999965: (190, 85),\n",
       " -6062.304034999996: (195, 85),\n",
       " -3142.6105000000107: (95, 90),\n",
       " -4186.867955000042: (100, 90),\n",
       " -5077.482163000038: (105, 90),\n",
       " -2731.1786420000262: (110, 90),\n",
       " -1916.114464999964: (115, 90),\n",
       " -607.1066340000309: (120, 90),\n",
       " -387.64659999997383: (125, 90),\n",
       " -778.9134059999406: (130, 90),\n",
       " -1291.3885979999598: (135, 90),\n",
       " -1586.8297149999908: (140, 90),\n",
       " -2082.347102999966: (145, 90),\n",
       " -3153.2682880000207: (150, 90),\n",
       " -4258.454427999972: (155, 90),\n",
       " -3773.588361999994: (160, 90),\n",
       " -4640.245139999963: (165, 90),\n",
       " -4526.0877310000205: (170, 90),\n",
       " -4842.101617999988: (175, 90),\n",
       " -5488.894875000009: (180, 90),\n",
       " -5567.227898000038: (185, 90),\n",
       " -5762.45043400003: (190, 90),\n",
       " -5886.228894000003: (195, 90),\n",
       " -3443.840780000025: (100, 95),\n",
       " -2441.9158540000117: (105, 95),\n",
       " -542.9842730000129: (110, 95),\n",
       " -676.2962860000165: (115, 95),\n",
       " -753.627004000002: (120, 95),\n",
       " 277.9603989999679: (125, 95),\n",
       " -177.36207100002207: (130, 95),\n",
       " -1247.8225939999957: (135, 95),\n",
       " -2411.8467789999704: (140, 95),\n",
       " -2440.836233999993: (145, 95),\n",
       " -2891.4806239999657: (150, 95),\n",
       " -3319.1677900000427: (155, 95),\n",
       " -3608.7901129999877: (160, 95),\n",
       " -4358.827246000005: (165, 95),\n",
       " -3886.0862019999463: (170, 95),\n",
       " -5213.930009000006: (175, 95),\n",
       " -5966.62461900002: (180, 95),\n",
       " -5772.094532999989: (185, 95),\n",
       " -6181.313945000002: (190, 95),\n",
       " -7253.727260999948: (195, 95),\n",
       " -1567.2511830000044: (105, 100),\n",
       " -1301.2478240000041: (110, 100),\n",
       " -1414.9930810000303: (115, 100),\n",
       " -1136.1548610000686: (120, 100),\n",
       " -801.2569610000355: (125, 100),\n",
       " -305.8051290000064: (130, 100),\n",
       " -2064.003959999977: (135, 100),\n",
       " -2401.7706739999867: (140, 100),\n",
       " -3048.7510249999796: (145, 100),\n",
       " -3327.1063200000053: (150, 100),\n",
       " -2830.200651000044: (155, 100),\n",
       " -3460.241474999992: (160, 100),\n",
       " -3804.8748820000355: (165, 100),\n",
       " -5676.488522000046: (170, 100),\n",
       " -5791.721354000029: (175, 100),\n",
       " -6264.938023000005: (180, 100),\n",
       " -5896.4577750000235: (185, 100),\n",
       " -6366.696483000029: (190, 100),\n",
       " -7111.178711000025: (195, 100),\n",
       " -1410.623743000028: (110, 105),\n",
       " -2303.529095000051: (115, 105),\n",
       " -699.6036610000283: (120, 105),\n",
       " -897.4076960000352: (125, 105),\n",
       " -1295.8435320000074: (130, 105),\n",
       " -1470.2558019999738: (135, 105),\n",
       " -1982.0391899999872: (140, 105),\n",
       " -2317.631811999993: (145, 105),\n",
       " -3573.450406000027: (150, 105),\n",
       " -3944.6412710000154: (155, 105),\n",
       " -4001.1633100000263: (160, 105),\n",
       " -4293.192762999975: (165, 105),\n",
       " -5708.59828799998: (170, 105),\n",
       " -4968.492652000044: (175, 105),\n",
       " -4925.973268000042: (180, 105),\n",
       " -5339.386567000003: (185, 105),\n",
       " -6211.716934999964: (190, 105),\n",
       " -6061.240416999979: (195, 105),\n",
       " -2796.892958999997: (115, 110),\n",
       " -2567.7903499999834: (120, 110),\n",
       " -1279.612181999942: (125, 110),\n",
       " -1972.6245410000156: (130, 110),\n",
       " -1674.8937110000115: (135, 110),\n",
       " -1775.7394360000237: (140, 110),\n",
       " -3186.927397000036: (145, 110),\n",
       " -2484.7828150000028: (150, 110),\n",
       " -3433.2846669999885: (155, 110),\n",
       " -3209.9999650000086: (160, 110),\n",
       " -4609.320601000031: (165, 110),\n",
       " -5381.823652000057: (170, 110),\n",
       " -5424.090527999974: (175, 110),\n",
       " -4588.277496999968: (180, 110),\n",
       " -4876.532022999993: (185, 110),\n",
       " -5789.323638999996: (190, 110),\n",
       " -6397.828553999987: (195, 110),\n",
       " -1989.2488410000688: (120, 115),\n",
       " -208.61030600000336: (125, 115),\n",
       " -1495.8581769999944: (130, 115),\n",
       " -2179.8747029999686: (135, 115),\n",
       " -2340.2249810000294: (140, 115),\n",
       " -1806.202436999941: (145, 115),\n",
       " -2357.7279550000276: (150, 115),\n",
       " -2694.250107000028: (155, 115),\n",
       " -4151.895288000011: (160, 115),\n",
       " -4401.7537939999875: (165, 115),\n",
       " -4638.511694000057: (170, 115),\n",
       " -4784.281973999986: (175, 115),\n",
       " -4645.1956729999865: (180, 115),\n",
       " -4130.94680499999: (185, 115),\n",
       " -5729.110123999998: (190, 115),\n",
       " -5647.048202000004: (195, 115),\n",
       " -1369.8371399999603: (125, 120),\n",
       " -379.27095999999915: (130, 120),\n",
       " -1744.4440329999936: (135, 120),\n",
       " -1115.8476040000505: (140, 120),\n",
       " -2214.3249629999937: (145, 120),\n",
       " -1978.8305979999786: (150, 120),\n",
       " -2961.337288999956: (155, 120),\n",
       " -3440.9664770000304: (160, 120),\n",
       " -2861.3094439999954: (165, 120),\n",
       " -4384.956889000002: (170, 120),\n",
       " -4860.607628999997: (175, 120),\n",
       " -3895.8242899999923: (180, 120),\n",
       " -4195.329916000001: (185, 120),\n",
       " -4695.682944000024: (190, 120),\n",
       " -5402.522481999968: (195, 120),\n",
       " -581.6361080000247: (130, 125),\n",
       " -2464.185565000052: (135, 125),\n",
       " -2576.2105900000206: (140, 125),\n",
       " -2570.797685000008: (145, 125),\n",
       " -2594.16495800004: (150, 125),\n",
       " -3291.7995420000284: (155, 125),\n",
       " -3564.698948999968: (160, 125),\n",
       " -2753.0428280000083: (165, 125),\n",
       " -3995.002548000023: (170, 125),\n",
       " -3576.5264250000423: (175, 125),\n",
       " -4164.337488999981: (180, 125),\n",
       " -4435.417195000023: (185, 125),\n",
       " -4987.691439999994: (190, 125),\n",
       " -5572.642872999995: (195, 125),\n",
       " -4395.5867869999865: (135, 130),\n",
       " -1804.1007019999658: (140, 130),\n",
       " -2271.0930879999937: (145, 130),\n",
       " -2208.4465759999903: (150, 130),\n",
       " -2574.678049999985: (155, 130),\n",
       " -3438.1443949999734: (160, 130),\n",
       " -3454.4678769999746: (165, 130),\n",
       " -3693.9407090000077: (170, 130),\n",
       " -4454.598606999982: (175, 130),\n",
       " -4916.1156869999795: (180, 130),\n",
       " -5162.7727799999675: (185, 130),\n",
       " -6090.444187000016: (190, 130),\n",
       " -6141.456071999996: (195, 130),\n",
       " -2647.619933999986: (140, 135),\n",
       " -2349.042340999983: (145, 135),\n",
       " -2756.688472000001: (150, 135),\n",
       " -2726.3203290000215: (155, 135),\n",
       " -3823.1214050000435: (160, 135),\n",
       " -3345.77917799999: (165, 135),\n",
       " -3873.012560999957: (170, 135),\n",
       " -4888.832003999991: (175, 135),\n",
       " -5411.05034899999: (180, 135),\n",
       " -5632.5353329999925: (185, 135),\n",
       " -4557.849565999988: (190, 135),\n",
       " -5868.481214000021: (195, 135),\n",
       " -1709.4247909999895: (145, 140),\n",
       " -2788.1544169999456: (150, 140),\n",
       " -1968.173552999984: (155, 140),\n",
       " -2409.5392149999743: (160, 140),\n",
       " -2100.8092479999873: (165, 140),\n",
       " -2195.647995999998: (170, 140),\n",
       " -5095.150828000041: (175, 140),\n",
       " -5114.676767000008: (180, 140),\n",
       " -4624.749162999993: (185, 140),\n",
       " -4611.401355000021: (190, 140),\n",
       " -4775.520479999988: (195, 140),\n",
       " -1959.9881059999852: (150, 145),\n",
       " -3148.87370000003: (155, 145),\n",
       " -2906.890737999983: (160, 145),\n",
       " -2159.4939080000427: (165, 145),\n",
       " -3723.741165999964: (170, 145),\n",
       " -4282.987369999972: (175, 145),\n",
       " -4413.319011999976: (180, 145),\n",
       " -4665.652894000023: (185, 145),\n",
       " -5132.270503999991: (190, 145),\n",
       " -4791.969483000028: (195, 145),\n",
       " -3158.9892660000155: (155, 150),\n",
       " -3772.6927720000176: (160, 150),\n",
       " -2926.9971310000155: (165, 150),\n",
       " -4196.461380000002: (170, 150),\n",
       " -5267.263198999975: (175, 150),\n",
       " -6155.88201999996: (180, 150),\n",
       " -6074.206463000031: (185, 150),\n",
       " -4961.373436999988: (190, 150),\n",
       " -5314.122299000033: (195, 150),\n",
       " -3572.372284999996: (160, 155),\n",
       " -5123.467847999962: (165, 155),\n",
       " -5828.60203200003: (170, 155),\n",
       " -6561.64549000001: (175, 155),\n",
       " -6302.16225199996: (180, 155),\n",
       " -7576.762446999975: (185, 155),\n",
       " -5916.287346000003: (190, 155),\n",
       " -5485.732388000003: (195, 155),\n",
       " -5135.274842999972: (165, 160),\n",
       " -6234.242338999988: (170, 160),\n",
       " -5715.5023839999685: (175, 160),\n",
       " -6662.216811999996: (180, 160),\n",
       " -6168.030500999981: (185, 160),\n",
       " -4920.728391000037: (190, 160),\n",
       " -5276.596929000014: (195, 160),\n",
       " -5170.37577599997: (170, 165),\n",
       " -6894.571131999969: (175, 165),\n",
       " -6953.511005000005: (180, 165),\n",
       " -6984.654536000016: (185, 165),\n",
       " -5111.701341000003: (190, 165),\n",
       " -5069.029687000004: (195, 165),\n",
       " -7924.430368999959: (175, 170),\n",
       " -5695.6698659999765: (180, 170),\n",
       " -7091.954413000002: (185, 170),\n",
       " -4951.3571809999885: (190, 170),\n",
       " -4995.1901100000105: (195, 170),\n",
       " -6283.753750999956: (180, 175),\n",
       " -5250.621583999974: (185, 175),\n",
       " -4813.156290000014: (190, 175),\n",
       " -4509.332414999989: (195, 175),\n",
       " -5113.25140800007: (185, 180),\n",
       " -4421.059759000025: (190, 180),\n",
       " -5022.847664999947: (195, 180),\n",
       " -4631.745425999953: (190, 185),\n",
       " -4157.614458999964: (195, 185),\n",
       " -5159.655009000022: (195, 190)}"
      ]
     },
     "execution_count": 74,
     "metadata": {},
     "output_type": "execute_result"
    }
   ],
   "source": [
    "results"
   ]
  },
  {
   "cell_type": "code",
   "execution_count": 77,
   "id": "3ee15bc8",
   "metadata": {},
   "outputs": [],
   "source": [
    "historical_klines['price'] = pd.to_numeric(historical_klines['price'])"
   ]
  },
  {
   "cell_type": "code",
   "execution_count": 78,
   "id": "b5fdbe11",
   "metadata": {},
   "outputs": [
    {
     "data": {
      "text/plain": [
       "<AxesSubplot:>"
      ]
     },
     "execution_count": 78,
     "metadata": {},
     "output_type": "execute_result"
    },
    {
     "data": {
      "image/png": "[encoded data removed]",
      "text/plain": [
       "<Figure size 432x288 with 1 Axes>"
      ]
     },
     "metadata": {
      "needs_background": "light"
     },
     "output_type": "display_data"
    }
   ],
   "source": [
    "historical_klines['price'].plot()"
   ]
  },
  {
   "cell_type": "code",
   "execution_count": null,
   "id": "a603d5d1",
   "metadata": {},
   "outputs": [],
   "source": []
  }
 ],
 "metadata": {
  "kernelspec": {
   "display_name": "Python 3 (ipykernel)",
   "language": "python",
   "name": "python3"
  },
  "language_info": {
   "codemirror_mode": {
    "name": "ipython",
    "version": 3
   },
   "file_extension": ".py",
   "mimetype": "text/x-python",
   "name": "python",
   "nbconvert_exporter": "python",
   "pygments_lexer": "ipython3",
   "version": "3.9.6"
  }
 },
 "nbformat": 4,
 "nbformat_minor": 5
}
