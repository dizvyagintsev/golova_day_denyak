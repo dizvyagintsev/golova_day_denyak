{
 "cells": [
  {
   "cell_type": "code",
   "execution_count": 2,
   "id": "fe456ce2",
   "metadata": {
    "ExecuteTime": {
     "end_time": "2021-09-19T16:28:17.457850Z",
     "start_time": "2021-09-19T16:28:15.964855Z"
    }
   },
   "outputs": [],
   "source": [
    "import pandas as pd\n",
    "import numpy as np\n",
    "from binance.client import AsyncClient, Client\n",
    "import json\n",
    "import warnings\n",
    "warnings.filterwarnings('ignore')"
   ]
  },
  {
   "cell_type": "code",
   "execution_count": 3,
   "id": "a9e29e65",
   "metadata": {
    "ExecuteTime": {
     "end_time": "2021-09-19T16:28:17.496862Z",
     "start_time": "2021-09-19T16:28:17.481856Z"
    }
   },
   "outputs": [],
   "source": [
    "def get_strategies(df, long_window, short_window, is_simple=True):\n",
    "    sign = None\n",
    "    strategies = []\n",
    "    \n",
    "    if is_simple:\n",
    "        df['mean_long'] = df['price'].rolling(long_window).mean()\n",
    "        df['mean_short'] = df['price'].rolling(short_window).mean()\n",
    "    if not is_simple:\n",
    "        df['mean_long'] = df['price'].ewm(span = long_window, adjust=False, min_periods=long_window).mean()\n",
    "        df['mean_short'] = df['price'].ewm(span = short_window, adjust=False, min_periods=short_window).mean()\n",
    "\n",
    "    for row in df.iterrows():\n",
    "        mean_short, mean_long = row[1]['mean_short'], row[1]['mean_long']\n",
    "        \n",
    "        if pd.isna(mean_long):\n",
    "            strategies.append(pd.NA)\n",
    "            continue\n",
    "\n",
    "        local_sign = (mean_short - mean_long) >= 0\n",
    "        strategy = 0\n",
    "\n",
    "        if sign == None:\n",
    "            sign = local_sign\n",
    "\n",
    "        if local_sign != sign: # знак поменялся\n",
    "            if local_sign: # поменялся с - на +\n",
    "                strategy = 1\n",
    "            else: # поменялся с + на -\n",
    "                strategy = -1\n",
    "\n",
    "        sign = local_sign\n",
    "        strategies.append(strategy)\n",
    "        \n",
    "    return strategies"
   ]
  },
  {
   "cell_type": "code",
   "execution_count": 4,
   "id": "60b37aa9",
   "metadata": {
    "ExecuteTime": {
     "end_time": "2021-09-19T16:28:17.533854Z",
     "start_time": "2021-09-19T16:28:17.520863Z"
    }
   },
   "outputs": [],
   "source": [
    "def backtest(df, long_window, short_window, is_simple=True):\n",
    "    df['strategy'] = get_strategies(df, long_window, short_window, is_simple=is_simple)\n",
    "    df = df.iloc[(long_window-1):,]\n",
    "    df['strategy'] = pd.to_numeric(df['strategy'])\n",
    "    df['price'] = pd.to_numeric(df['price'])\n",
    "    df.loc[:, 'buy_price'] = df.loc[:, 'price'] * df.loc[:, 'strategy']\n",
    "    df = df[df['strategy'] != 0]\n",
    "    df['next_price'] = df['buy_price'].shift(-1)\n",
    "    df = df[~df['next_price'].isna()]\n",
    "    df['profit'] = np.where(\n",
    "        df['strategy'] == -1,\n",
    "        (df['price'] - df['next_price']) + df['buy_price'] * COMMISION_RATE - df['next_price'] * COMMISION_RATE,\n",
    "        -(df['next_price'] + df['price']) - df['buy_price'] * COMMISION_RATE + df['next_price'] * COMMISION_RATE)\n",
    "\n",
    "    return df['profit'].sum()"
   ]
  },
  {
   "cell_type": "code",
   "execution_count": 5,
   "id": "09fdb466",
   "metadata": {
    "ExecuteTime": {
     "end_time": "2021-09-19T16:28:17.571845Z",
     "start_time": "2021-09-19T16:28:17.558852Z"
    }
   },
   "outputs": [],
   "source": [
    "def calc_profit(df):\n",
    "    df = df[~df['strategy'].isna()]\n",
    "    df['strategy'] = pd.to_numeric(df['strategy'])\n",
    "    df['price'] = pd.to_numeric(df['price'])\n",
    "    df.loc[:, 'buy_price'] = df.loc[:, 'price'] * df.loc[:, 'strategy']\n",
    "    df = df[df['strategy'] != 0]\n",
    "    df['next_price'] = df['buy_price'].shift(-1)\n",
    "    df = df[~df['next_price'].isna()]\n",
    "    df['profit'] = np.where(\n",
    "        df['strategy'] == -1,\n",
    "        (df['price'] - df['next_price']) + df['buy_price'] * COMMISION_RATE - df['next_price'] * COMMISION_RATE,\n",
    "        -(df['next_price'] + df['price']) - df['buy_price'] * COMMISION_RATE + df['next_price'] * COMMISION_RATE)\n",
    "\n",
    "    return df['profit'].sum()"
   ]
  },
  {
   "cell_type": "code",
   "execution_count": 6,
   "id": "86acae4f",
   "metadata": {
    "ExecuteTime": {
     "end_time": "2021-09-19T16:28:17.606853Z",
     "start_time": "2021-09-19T16:28:17.599849Z"
    }
   },
   "outputs": [],
   "source": [
    "with open('binance_credentials.json', 'r') as json_file:\n",
    "    credentials = json.load(json_file)"
   ]
  },
  {
   "cell_type": "code",
   "execution_count": 7,
   "id": "290c468a",
   "metadata": {
    "ExecuteTime": {
     "end_time": "2021-09-19T16:28:17.637852Z",
     "start_time": "2021-09-19T16:28:17.631853Z"
    }
   },
   "outputs": [],
   "source": [
    "API_KEY = credentials['API_KEY']\n",
    "API_SECRET = credentials['API_SECRET']"
   ]
  },
  {
   "cell_type": "code",
   "execution_count": 8,
   "id": "01d0ab5b",
   "metadata": {
    "ExecuteTime": {
     "end_time": "2021-09-19T16:28:17.669853Z",
     "start_time": "2021-09-19T16:28:17.663851Z"
    }
   },
   "outputs": [],
   "source": [
    "client = AsyncClient(API_KEY, API_SECRET)"
   ]
  },
  {
   "cell_type": "code",
   "execution_count": 9,
   "id": "15db296b",
   "metadata": {
    "ExecuteTime": {
     "end_time": "2021-09-19T16:28:17.703855Z",
     "start_time": "2021-09-19T16:28:17.697851Z"
    }
   },
   "outputs": [],
   "source": [
    "COMMISION_RATE = 0.0001"
   ]
  },
  {
   "cell_type": "code",
   "execution_count": 10,
   "id": "77efd26c",
   "metadata": {
    "ExecuteTime": {
     "end_time": "2021-09-19T16:28:17.739851Z",
     "start_time": "2021-09-19T16:28:17.733850Z"
    }
   },
   "outputs": [],
   "source": [
    "MINUTES_NUMBER = 500"
   ]
  },
  {
   "cell_type": "code",
   "execution_count": 27,
   "id": "15199f2a",
   "metadata": {
    "ExecuteTime": {
     "end_time": "2021-09-19T16:38:40.731753Z",
     "start_time": "2021-09-19T16:38:40.725756Z"
    }
   },
   "outputs": [],
   "source": [
    "max_window_size = 50\n",
    "min_window_size = 5\n",
    "step = 5"
   ]
  },
  {
   "cell_type": "code",
   "execution_count": 28,
   "id": "270674de",
   "metadata": {
    "ExecuteTime": {
     "end_time": "2021-09-19T16:38:40.892169Z",
     "start_time": "2021-09-19T16:38:40.886168Z"
    }
   },
   "outputs": [],
   "source": [
    "historical_data_size = max_window_size * 2"
   ]
  },
  {
   "cell_type": "code",
   "execution_count": 29,
   "id": "30f21df8",
   "metadata": {
    "ExecuteTime": {
     "end_time": "2021-09-19T16:38:41.204164Z",
     "start_time": "2021-09-19T16:38:41.197161Z"
    }
   },
   "outputs": [],
   "source": [
    "future_data_size = MINUTES_NUMBER - historical_data_size"
   ]
  },
  {
   "cell_type": "code",
   "execution_count": 30,
   "id": "712f5e94",
   "metadata": {
    "ExecuteTime": {
     "end_time": "2021-09-19T16:39:51.574807Z",
     "start_time": "2021-09-19T16:39:48.035712Z"
    }
   },
   "outputs": [],
   "source": [
    "historical_klines = pd.DataFrame()\n",
    "async for kline in await client.get_historical_klines_generator(\"BTCUSDT\", Client.KLINE_INTERVAL_1MINUTE, f\"{MINUTES_NUMBER} minutes ago UTC\"):\n",
    "    close_price = kline[4]\n",
    "    close_time = kline[6]\n",
    "    historical_klines = historical_klines.append({'time': pd.to_datetime(close_time, unit='ms'), 'price': close_price}, ignore_index=True)"
   ]
  },
  {
   "cell_type": "code",
   "execution_count": 31,
   "id": "fa754772",
   "metadata": {
    "ExecuteTime": {
     "end_time": "2021-09-19T16:39:52.217897Z",
     "start_time": "2021-09-19T16:39:52.210882Z"
    }
   },
   "outputs": [],
   "source": [
    "historical_klines, future_klines = historical_klines[:historical_data_size], historical_klines[future_data_size:]"
   ]
  },
  {
   "cell_type": "code",
   "execution_count": 33,
   "id": "c5146b8c",
   "metadata": {
    "ExecuteTime": {
     "end_time": "2021-09-19T16:40:21.274592Z",
     "start_time": "2021-09-19T16:40:04.479601Z"
    }
   },
   "outputs": [
    {
     "name": "stdout",
     "output_type": "stream",
     "text": [
      "Updated strategy:  15 35\n",
      "Updated strategy:  15 35\n",
      "Updated strategy:  15 5\n",
      "Updated strategy:  15 10\n",
      "Updated strategy:  15 10\n",
      "Updated strategy:  15 10\n",
      "Updated strategy:  30 25\n"
     ]
    }
   ],
   "source": [
    "df = historical_klines.copy()\n",
    "\n",
    "recount_interval = 15\n",
    "short_window = 15\n",
    "long_window = 20\n",
    "\n",
    "for i, row in enumerate(future_klines.iterrows()):\n",
    "    close_price = row[1]['price']\n",
    "    close_time = row[1]['time']\n",
    "    df = df.append({'price': close_price, 'time': close_time}, ignore_index=True)\n",
    "    \n",
    "    if i % recount_interval == 0:\n",
    "        results = {}\n",
    "\n",
    "        for s in range(min_window_size, max_window_size - step, step):\n",
    "            for l in range(min_window_size + step, max_window_size, step):\n",
    "                results[backtest(df.copy(), l, s, is_simple=False)] = (l, s)\n",
    "                \n",
    "        long_window, short_window = results[max(results)]\n",
    "        print(\"Updated strategy: \", long_window, short_window)\n",
    "    \n",
    "    df['strategy'] = get_strategies(df.copy(), long_window, short_window, is_simple=False)"
   ]
  },
  {
   "cell_type": "code",
   "execution_count": 34,
   "id": "7a298b5f",
   "metadata": {
    "ExecuteTime": {
     "end_time": "2021-09-19T16:40:21.371600Z",
     "start_time": "2021-09-19T16:40:21.348590Z"
    },
    "scrolled": true
   },
   "outputs": [
    {
     "data": {
      "text/plain": [
       "396.38959700000197"
      ]
     },
     "execution_count": 34,
     "metadata": {},
     "output_type": "execute_result"
    }
   ],
   "source": [
    "calc_profit(df)"
   ]
  },
  {
   "cell_type": "code",
   "execution_count": 35,
   "id": "1bc71eec",
   "metadata": {
    "ExecuteTime": {
     "end_time": "2021-09-19T16:40:21.476592Z",
     "start_time": "2021-09-19T16:40:21.448594Z"
    },
    "scrolled": true
   },
   "outputs": [],
   "source": [
    "df = df[~df['strategy'].isna()]\n",
    "df['strategy'] = pd.to_numeric(df['strategy'])\n",
    "df['price'] = pd.to_numeric(df['price'])\n",
    "df.loc[:, 'buy_price'] = df.loc[:, 'price'] * df.loc[:, 'strategy']\n",
    "df = df[df['strategy'] != 0]\n",
    "df['next_price'] = df['buy_price'].shift(-1)\n",
    "df = df[~df['next_price'].isna()]\n",
    "df['profit'] = np.where(\n",
    "    df['strategy'] == -1,\n",
    "    (df['price'] - df['next_price']) + df['buy_price'] * COMMISION_RATE - df['next_price'] * COMMISION_RATE,\n",
    "    -(df['next_price'] + df['price']) - df['buy_price'] * COMMISION_RATE + df['next_price'] * COMMISION_RATE)"
   ]
  },
  {
   "cell_type": "code",
   "execution_count": 36,
   "id": "c2b6d9e3",
   "metadata": {
    "ExecuteTime": {
     "end_time": "2021-09-19T16:40:21.552602Z",
     "start_time": "2021-09-19T16:40:21.539589Z"
    }
   },
   "outputs": [
    {
     "data": {
      "text/plain": [
       "count      2.000000\n",
       "mean     198.194799\n",
       "std      355.080585\n",
       "min      -52.885091\n",
       "25%       72.654854\n",
       "50%      198.194799\n",
       "75%      323.734743\n",
       "max      449.274688\n",
       "Name: profit, dtype: float64"
      ]
     },
     "execution_count": 36,
     "metadata": {},
     "output_type": "execute_result"
    }
   ],
   "source": [
    "df.profit.describe()"
   ]
  }
 ],
 "metadata": {
  "kernelspec": {
   "display_name": "Python 3 (ipykernel)",
   "language": "python",
   "name": "python3"
  },
  "language_info": {
   "codemirror_mode": {
    "name": "ipython",
    "version": 3
   },
   "file_extension": ".py",
   "mimetype": "text/x-python",
   "name": "python",
   "nbconvert_exporter": "python",
   "pygments_lexer": "ipython3",
   "version": "3.9.7"
  },
  "toc": {
   "base_numbering": 1,
   "nav_menu": {
    "height": "253px",
    "width": "267px"
   },
   "number_sections": true,
   "sideBar": true,
   "skip_h1_title": false,
   "title_cell": "Table of Contents",
   "title_sidebar": "Contents",
   "toc_cell": false,
   "toc_position": {},
   "toc_section_display": true,
   "toc_window_display": false
  },
  "varInspector": {
   "cols": {
    "lenName": 16,
    "lenType": 16,
    "lenVar": 40
   },
   "kernels_config": {
    "python": {
     "delete_cmd_postfix": "",
     "delete_cmd_prefix": "del ",
     "library": "var_list.py",
     "varRefreshCmd": "print(var_dic_list())"
    },
    "r": {
     "delete_cmd_postfix": ") ",
     "delete_cmd_prefix": "rm(",
     "library": "var_list.r",
     "varRefreshCmd": "cat(var_dic_list()) "
    }
   },
   "position": {
    "height": "579.4px",
    "left": "1152.4px",
    "right": "20px",
    "top": "120px",
    "width": "350px"
   },
   "types_to_exclude": [
    "module",
    "function",
    "builtin_function_or_method",
    "instance",
    "_Feature"
   ],
   "window_display": false
  }
 },
 "nbformat": 4,
 "nbformat_minor": 5
}
