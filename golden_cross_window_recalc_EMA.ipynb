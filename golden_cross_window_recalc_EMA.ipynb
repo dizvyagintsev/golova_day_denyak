{
 "cells": [
  {
   "cell_type": "code",
   "execution_count": 3,
   "id": "fe456ce2",
   "metadata": {
    "ExecuteTime": {
     "end_time": "2021-09-19T14:17:17.933953Z",
     "start_time": "2021-09-19T14:17:16.355193Z"
    }
   },
   "outputs": [],
   "source": [
    "import pandas as pd\n",
    "import numpy as np\n",
    "from binance.client import AsyncClient, Client\n",
    "from tqdm import tqdm_notebook as tqdm\n",
    "import json\n",
    "import warnings\n",
    "warnings.filterwarnings('ignore')"
   ]
  },
  {
   "cell_type": "code",
   "execution_count": 2,
   "id": "a9e29e65",
   "metadata": {
    "ExecuteTime": {
     "end_time": "2021-09-19T14:17:43.811197Z",
     "start_time": "2021-09-19T14:17:43.800205Z"
    }
   },
   "outputs": [],
   "source": [
    "def get_strategies(df, long_window, short_window, is_simple=True):\n",
    "    sign = None\n",
    "    strategies = []\n",
    "    \n",
    "    if is_simple:\n",
    "        df['mean_long'] = df['price'].rolling(long_window).mean()\n",
    "        df['mean_short'] = df['price'].rolling(short_window).mean()\n",
    "    if not is_simple:\n",
    "        df['mean_long'] = df['price'].ewm(span = long_window, adjust=False, min_periods=long_window).mean()\n",
    "        df['mean_short'] = df['price'].ewm(span = short_window, adjust=False, min_periods=short_window).mean()\n",
    "\n",
    "    for row in df.iterrows():\n",
    "        mean_short, mean_long = row[1]['mean_short'], row[1]['mean_long']\n",
    "        \n",
    "        if pd.isna(mean_long):\n",
    "            strategies.append(pd.NA)\n",
    "            continue\n",
    "\n",
    "        local_sign = (mean_short - mean_long) >= 0\n",
    "        strategy = 0\n",
    "\n",
    "        if sign == None:\n",
    "            sign = local_sign\n",
    "\n",
    "        if local_sign != sign: # знак поменялся\n",
    "            if local_sign: # поменялся с - на +\n",
    "                strategy = 1\n",
    "            else: # поменялся с + на -\n",
    "                strategy = -1\n",
    "\n",
    "        sign = local_sign\n",
    "        strategies.append(strategy)\n",
    "        \n",
    "    return strategies"
   ]
  },
  {
   "cell_type": "code",
   "execution_count": 3,
   "id": "60b37aa9",
   "metadata": {
    "ExecuteTime": {
     "end_time": "2021-09-19T14:17:44.756333Z",
     "start_time": "2021-09-19T14:17:44.746332Z"
    }
   },
   "outputs": [],
   "source": [
    "def backtest(df, long_window, short_window, is_simple=True):\n",
    "    df['strategy'] = get_strategies(df, long_window, short_window, is_simple=is_simple)\n",
    "    df = df.iloc[(long_window-1):,]\n",
    "    df['strategy'] = pd.to_numeric(df['strategy'])\n",
    "    df['price'] = pd.to_numeric(df['price'])\n",
    "    df.loc[:, 'buy_price'] = df.loc[:, 'price'] * df.loc[:, 'strategy']\n",
    "    df = df[df['strategy'] != 0]\n",
    "    df['next_price'] = df['buy_price'].shift(-1)\n",
    "    df = df[~df['next_price'].isna()]\n",
    "    df['profit'] = np.where(\n",
    "        df['strategy'] == -1,\n",
    "        (df['price'] - df['next_price']) + df['buy_price'] * COMMISION_RATE - df['next_price'] * COMMISION_RATE,\n",
    "        -(df['next_price'] + df['price']) - df['buy_price'] * COMMISION_RATE + df['next_price'] * COMMISION_RATE)\n",
    "\n",
    "    return df['profit'].sum()"
   ]
  },
  {
   "cell_type": "code",
   "execution_count": 4,
   "id": "09fdb466",
   "metadata": {
    "ExecuteTime": {
     "end_time": "2021-09-19T14:17:45.226266Z",
     "start_time": "2021-09-19T14:17:45.218269Z"
    }
   },
   "outputs": [],
   "source": [
    "def calc_profit(df):\n",
    "    df = df[~df['strategy'].isna()]\n",
    "    df['strategy'] = pd.to_numeric(df['strategy'])\n",
    "    df['price'] = pd.to_numeric(df['price'])\n",
    "    df.loc[:, 'buy_price'] = df.loc[:, 'price'] * df.loc[:, 'strategy']\n",
    "    df = df[df['strategy'] != 0]\n",
    "    df['next_price'] = df['buy_price'].shift(-1)\n",
    "    df = df[~df['next_price'].isna()]\n",
    "    df['profit'] = np.where(\n",
    "        df['strategy'] == -1,\n",
    "        (df['price'] - df['next_price']) + df['buy_price'] * COMMISION_RATE - df['next_price'] * COMMISION_RATE,\n",
    "        -(df['next_price'] + df['price']) - df['buy_price'] * COMMISION_RATE + df['next_price'] * COMMISION_RATE)\n",
    "\n",
    "    return df['profit'].sum()"
   ]
  },
  {
   "cell_type": "code",
   "execution_count": 5,
   "id": "86acae4f",
   "metadata": {
    "ExecuteTime": {
     "end_time": "2021-09-19T14:17:46.261412Z",
     "start_time": "2021-09-19T14:17:46.255416Z"
    }
   },
   "outputs": [],
   "source": [
    "with open('binance_credentials.json', 'r') as json_file:\n",
    "    credentials = json.load(json_file)"
   ]
  },
  {
   "cell_type": "code",
   "execution_count": 6,
   "id": "290c468a",
   "metadata": {
    "ExecuteTime": {
     "end_time": "2021-09-19T14:17:46.635128Z",
     "start_time": "2021-09-19T14:17:46.631132Z"
    }
   },
   "outputs": [],
   "source": [
    "API_KEY = credentials['API_KEY']\n",
    "API_SECRET = credentials['API_SECRET']"
   ]
  },
  {
   "cell_type": "code",
   "execution_count": 7,
   "id": "01d0ab5b",
   "metadata": {
    "ExecuteTime": {
     "end_time": "2021-09-19T14:17:47.031343Z",
     "start_time": "2021-09-19T14:17:47.027349Z"
    }
   },
   "outputs": [],
   "source": [
    "client = AsyncClient(API_KEY, API_SECRET)"
   ]
  },
  {
   "cell_type": "code",
   "execution_count": 8,
   "id": "77efd26c",
   "metadata": {
    "ExecuteTime": {
     "end_time": "2021-09-19T14:17:47.463366Z",
     "start_time": "2021-09-19T14:17:47.458364Z"
    }
   },
   "outputs": [],
   "source": [
    "MINUTES_NUMBER = 10_000"
   ]
  },
  {
   "cell_type": "code",
   "execution_count": 9,
   "id": "15db296b",
   "metadata": {
    "ExecuteTime": {
     "end_time": "2021-09-19T14:17:48.922199Z",
     "start_time": "2021-09-19T14:17:48.918177Z"
    }
   },
   "outputs": [],
   "source": [
    "COMMISION_RATE = 0.0001"
   ]
  },
  {
   "cell_type": "code",
   "execution_count": 10,
   "id": "712f5e94",
   "metadata": {
    "ExecuteTime": {
     "end_time": "2021-09-19T14:18:53.666866Z",
     "start_time": "2021-09-19T14:17:56.312451Z"
    }
   },
   "outputs": [],
   "source": [
    "historical_klines = pd.DataFrame()\n",
    "async for kline in await client.get_historical_klines_generator(\"BTCUSDT\", Client.KLINE_INTERVAL_1MINUTE, f\"{MINUTES_NUMBER} minutes ago UTC\"):\n",
    "    close_price = kline[4]\n",
    "    close_time = kline[6]\n",
    "    historical_klines = historical_klines.append({'time': pd.to_datetime(close_time, unit='ms'), 'price': close_price}, ignore_index=True)"
   ]
  },
  {
   "cell_type": "code",
   "execution_count": 11,
   "id": "fa754772",
   "metadata": {
    "ExecuteTime": {
     "end_time": "2021-09-19T14:18:53.741869Z",
     "start_time": "2021-09-19T14:18:53.737874Z"
    }
   },
   "outputs": [],
   "source": [
    "historical_klines, future_klines = historical_klines[:int(MINUTES_NUMBER/2)], historical_klines[int(MINUTES_NUMBER/2):]"
   ]
  },
  {
   "cell_type": "code",
   "execution_count": null,
   "id": "5e94ecaf",
   "metadata": {
    "ExecuteTime": {
     "end_time": "2021-09-19T14:49:27.367106Z",
     "start_time": "2021-09-19T14:18:49.194Z"
    }
   },
   "outputs": [],
   "source": [
    "calc_profit(df)"
   ]
  },
  {
   "cell_type": "code",
   "execution_count": null,
   "id": "3cc8637c",
   "metadata": {
    "ExecuteTime": {
     "end_time": "2021-09-19T14:49:27.373109Z",
     "start_time": "2021-09-19T14:18:49.679Z"
    },
    "scrolled": true
   },
   "outputs": [],
   "source": [
    "df = df[~df['strategy'].isna()]\n",
    "df['strategy'] = pd.to_numeric(df['strategy'])\n",
    "df['price'] = pd.to_numeric(df['price'])\n",
    "df.loc[:, 'buy_price'] = df.loc[:, 'price'] * df.loc[:, 'strategy']\n",
    "df = df[df['strategy'] != 0]\n",
    "df['next_price'] = df['buy_price'].shift(-1)\n",
    "df = df[~df['next_price'].isna()]\n",
    "df['profit'] = np.where(\n",
    "    df['strategy'] == -1,\n",
    "    (df['price'] - df['next_price']) + df['buy_price'] * COMMISION_RATE - df['next_price'] * COMMISION_RATE,\n",
    "    -(df['next_price'] + df['price']) - df['buy_price'] * COMMISION_RATE + df['next_price'] * COMMISION_RATE)"
   ]
  },
  {
   "cell_type": "code",
   "execution_count": null,
   "id": "405769c2",
   "metadata": {
    "ExecuteTime": {
     "end_time": "2021-09-19T14:49:27.379100Z",
     "start_time": "2021-09-19T14:18:51.139Z"
    }
   },
   "outputs": [],
   "source": [
    "df.profit.describe()"
   ]
  },
  {
   "cell_type": "code",
   "execution_count": null,
   "id": "c5146b8c",
   "metadata": {
    "ExecuteTime": {
     "end_time": "2021-09-19T14:49:27.385110Z",
     "start_time": "2021-09-19T14:18:58.722Z"
    }
   },
   "outputs": [],
   "source": [
    "df = historical_klines.copy()\n",
    "\n",
    "recount_interval = 15\n",
    "short_window = 15\n",
    "long_window = 20\n",
    "\n",
    "for i, row in tqdm(enumerate(future_klines.iterrows()), total=int(MINUTES_NUMBER/2)):\n",
    "    close_price = row[1]['price']\n",
    "    close_time = row[1]['time']\n",
    "    df = df.append({'price': close_price, 'time': close_time}, ignore_index=True)\n",
    "    \n",
    "    if i % recount_interval == 0:\n",
    "        results = {}\n",
    "\n",
    "        for s in range(5, 45, 5):\n",
    "            for l in range(s + 5, 50, 5):\n",
    "                results[backtest(df.copy(), l, s, is_simple=False)] = (l, s)\n",
    "                \n",
    "        long_window, short_window = results[max(results)]\n",
    "        print(\"Updated strategy: \", long_window, short_window)\n",
    "    \n",
    "    df['strategy'] = get_strategies(df.copy(), long_window, short_window, is_simple=False)"
   ]
  },
  {
   "cell_type": "code",
   "execution_count": null,
   "id": "7a298b5f",
   "metadata": {
    "ExecuteTime": {
     "end_time": "2021-09-19T14:49:27.392107Z",
     "start_time": "2021-09-19T14:18:59.223Z"
    }
   },
   "outputs": [],
   "source": [
    "calc_profit(df)"
   ]
  },
  {
   "cell_type": "code",
   "execution_count": null,
   "id": "1bc71eec",
   "metadata": {
    "ExecuteTime": {
     "end_time": "2021-09-19T14:49:27.399107Z",
     "start_time": "2021-09-19T14:18:59.487Z"
    },
    "scrolled": true
   },
   "outputs": [],
   "source": [
    "df = df[~df['strategy'].isna()]\n",
    "df['strategy'] = pd.to_numeric(df['strategy'])\n",
    "df['price'] = pd.to_numeric(df['price'])\n",
    "df.loc[:, 'buy_price'] = df.loc[:, 'price'] * df.loc[:, 'strategy']\n",
    "df = df[df['strategy'] != 0]\n",
    "df['next_price'] = df['buy_price'].shift(-1)\n",
    "df = df[~df['next_price'].isna()]\n",
    "df['profit'] = np.where(\n",
    "    df['strategy'] == -1,\n",
    "    (df['price'] - df['next_price']) + df['buy_price'] * COMMISION_RATE - df['next_price'] * COMMISION_RATE,\n",
    "    -(df['next_price'] + df['price']) - df['buy_price'] * COMMISION_RATE + df['next_price'] * COMMISION_RATE)"
   ]
  },
  {
   "cell_type": "code",
   "execution_count": null,
   "id": "c2b6d9e3",
   "metadata": {
    "ExecuteTime": {
     "end_time": "2021-09-19T14:49:27.404099Z",
     "start_time": "2021-09-19T14:18:59.896Z"
    }
   },
   "outputs": [],
   "source": [
    "df.profit.describe()"
   ]
  }
 ],
 "metadata": {
  "kernelspec": {
   "display_name": "Python 3 (ipykernel)",
   "language": "python",
   "name": "python3"
  },
  "language_info": {
   "codemirror_mode": {
    "name": "ipython",
    "version": 3
   },
   "file_extension": ".py",
   "mimetype": "text/x-python",
   "name": "python",
   "nbconvert_exporter": "python",
   "pygments_lexer": "ipython3",
   "version": "3.9.7"
  },
  "toc": {
   "base_numbering": 1,
   "nav_menu": {},
   "number_sections": true,
   "sideBar": true,
   "skip_h1_title": false,
   "title_cell": "Table of Contents",
   "title_sidebar": "Contents",
   "toc_cell": false,
   "toc_position": {},
   "toc_section_display": true,
   "toc_window_display": false
  },
  "varInspector": {
   "cols": {
    "lenName": 16,
    "lenType": 16,
    "lenVar": 40
   },
   "kernels_config": {
    "python": {
     "delete_cmd_postfix": "",
     "delete_cmd_prefix": "del ",
     "library": "var_list.py",
     "varRefreshCmd": "print(var_dic_list())"
    },
    "r": {
     "delete_cmd_postfix": ") ",
     "delete_cmd_prefix": "rm(",
     "library": "var_list.r",
     "varRefreshCmd": "cat(var_dic_list()) "
    }
   },
   "position": {
    "height": "579.4px",
    "left": "1152.4px",
    "right": "20px",
    "top": "120px",
    "width": "350px"
   },
   "types_to_exclude": [
    "module",
    "function",
    "builtin_function_or_method",
    "instance",
    "_Feature"
   ],
   "window_display": false
  }
 },
 "nbformat": 4,
 "nbformat_minor": 5
}
